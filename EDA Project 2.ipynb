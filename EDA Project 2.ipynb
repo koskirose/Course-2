{
 "cells": [
  {
   "cell_type": "markdown",
   "metadata": {},
   "source": [
    "# Introductory "
   ]
  },
  {
   "cell_type": "code",
   "execution_count": 1,
   "metadata": {},
   "outputs": [],
   "source": [
    "#import the libraries\n",
    "import pandas as pd\n",
    "import matplotlib.pyplot as plt\n",
    "import seaborn as sns\n",
    "from math import sqrt\n",
    "from scipy import stats\n",
    "import numpy as np\n",
    "\n",
    "#pandas profiling\n",
    "import pandas_profiling\n",
    "\n",
    "import numpy as np\n",
    "#sklearn stuff\n",
    "#from sklearn.pipline import Pipeline\n",
    "from sklearn.impute import SimpleImputer\n",
    "#from sklearn.modelselections import train test split cross val score\n",
    "from sklearn.metrics import mean_squared_error, r2_score, accuracy_score\n",
    "from sklearn.ensemble import RandomForestRegressor, RandomForestClassifier, GradientBoostingRegressor\n",
    "from sklearn.linear_model import LinearRegression\n",
    "from sklearn.svm import SVR, SVC\n",
    "# LabelEncoder can be used to normalize labels.\n",
    "from sklearn.preprocessing import LabelEncoder\n",
    "\n",
    "\n",
    "\n",
    "# helper\n",
    "%matplotlib inline"
   ]
  },
  {
   "cell_type": "code",
   "execution_count": 2,
   "metadata": {},
   "outputs": [
    {
     "data": {
      "text/html": [
       "<div>\n",
       "<style scoped>\n",
       "    .dataframe tbody tr th:only-of-type {\n",
       "        vertical-align: middle;\n",
       "    }\n",
       "\n",
       "    .dataframe tbody tr th {\n",
       "        vertical-align: top;\n",
       "    }\n",
       "\n",
       "    .dataframe thead th {\n",
       "        text-align: right;\n",
       "    }\n",
       "</style>\n",
       "<table border=\"1\" class=\"dataframe\">\n",
       "  <thead>\n",
       "    <tr style=\"text-align: right;\">\n",
       "      <th></th>\n",
       "      <th>ID</th>\n",
       "      <th>LIMIT_BAL</th>\n",
       "      <th>SEX</th>\n",
       "      <th>EDUCATION</th>\n",
       "      <th>MARRIAGE</th>\n",
       "      <th>AGE</th>\n",
       "      <th>PAY_0</th>\n",
       "      <th>PAY_2</th>\n",
       "      <th>PAY_3</th>\n",
       "      <th>PAY_4</th>\n",
       "      <th>...</th>\n",
       "      <th>BILL_AMT4</th>\n",
       "      <th>BILL_AMT5</th>\n",
       "      <th>BILL_AMT6</th>\n",
       "      <th>PAY_AMT1</th>\n",
       "      <th>PAY_AMT2</th>\n",
       "      <th>PAY_AMT3</th>\n",
       "      <th>PAY_AMT4</th>\n",
       "      <th>PAY_AMT5</th>\n",
       "      <th>PAY_AMT6</th>\n",
       "      <th>default payment next month</th>\n",
       "    </tr>\n",
       "  </thead>\n",
       "  <tbody>\n",
       "    <tr>\n",
       "      <th>0</th>\n",
       "      <td>1</td>\n",
       "      <td>20000</td>\n",
       "      <td>female</td>\n",
       "      <td>university</td>\n",
       "      <td>1</td>\n",
       "      <td>24</td>\n",
       "      <td>2</td>\n",
       "      <td>2</td>\n",
       "      <td>-1</td>\n",
       "      <td>-1</td>\n",
       "      <td>...</td>\n",
       "      <td>0</td>\n",
       "      <td>0</td>\n",
       "      <td>0</td>\n",
       "      <td>0</td>\n",
       "      <td>689</td>\n",
       "      <td>0</td>\n",
       "      <td>0</td>\n",
       "      <td>0</td>\n",
       "      <td>0</td>\n",
       "      <td>default</td>\n",
       "    </tr>\n",
       "    <tr>\n",
       "      <th>1</th>\n",
       "      <td>2</td>\n",
       "      <td>120000</td>\n",
       "      <td>female</td>\n",
       "      <td>university</td>\n",
       "      <td>2</td>\n",
       "      <td>26</td>\n",
       "      <td>-1</td>\n",
       "      <td>2</td>\n",
       "      <td>0</td>\n",
       "      <td>0</td>\n",
       "      <td>...</td>\n",
       "      <td>3272</td>\n",
       "      <td>3455</td>\n",
       "      <td>3261</td>\n",
       "      <td>0</td>\n",
       "      <td>1000</td>\n",
       "      <td>1000</td>\n",
       "      <td>1000</td>\n",
       "      <td>0</td>\n",
       "      <td>2000</td>\n",
       "      <td>default</td>\n",
       "    </tr>\n",
       "    <tr>\n",
       "      <th>2</th>\n",
       "      <td>3</td>\n",
       "      <td>90000</td>\n",
       "      <td>female</td>\n",
       "      <td>university</td>\n",
       "      <td>2</td>\n",
       "      <td>34</td>\n",
       "      <td>0</td>\n",
       "      <td>0</td>\n",
       "      <td>0</td>\n",
       "      <td>0</td>\n",
       "      <td>...</td>\n",
       "      <td>14331</td>\n",
       "      <td>14948</td>\n",
       "      <td>15549</td>\n",
       "      <td>1518</td>\n",
       "      <td>1500</td>\n",
       "      <td>1000</td>\n",
       "      <td>1000</td>\n",
       "      <td>1000</td>\n",
       "      <td>5000</td>\n",
       "      <td>not default</td>\n",
       "    </tr>\n",
       "    <tr>\n",
       "      <th>3</th>\n",
       "      <td>4</td>\n",
       "      <td>50000</td>\n",
       "      <td>female</td>\n",
       "      <td>university</td>\n",
       "      <td>1</td>\n",
       "      <td>37</td>\n",
       "      <td>0</td>\n",
       "      <td>0</td>\n",
       "      <td>0</td>\n",
       "      <td>0</td>\n",
       "      <td>...</td>\n",
       "      <td>28314</td>\n",
       "      <td>28959</td>\n",
       "      <td>29547</td>\n",
       "      <td>2000</td>\n",
       "      <td>2019</td>\n",
       "      <td>1200</td>\n",
       "      <td>1100</td>\n",
       "      <td>1069</td>\n",
       "      <td>1000</td>\n",
       "      <td>not default</td>\n",
       "    </tr>\n",
       "    <tr>\n",
       "      <th>4</th>\n",
       "      <td>5</td>\n",
       "      <td>50000</td>\n",
       "      <td>male</td>\n",
       "      <td>university</td>\n",
       "      <td>1</td>\n",
       "      <td>57</td>\n",
       "      <td>-1</td>\n",
       "      <td>0</td>\n",
       "      <td>-1</td>\n",
       "      <td>0</td>\n",
       "      <td>...</td>\n",
       "      <td>20940</td>\n",
       "      <td>19146</td>\n",
       "      <td>19131</td>\n",
       "      <td>2000</td>\n",
       "      <td>36681</td>\n",
       "      <td>10000</td>\n",
       "      <td>9000</td>\n",
       "      <td>689</td>\n",
       "      <td>679</td>\n",
       "      <td>not default</td>\n",
       "    </tr>\n",
       "  </tbody>\n",
       "</table>\n",
       "<p>5 rows × 25 columns</p>\n",
       "</div>"
      ],
      "text/plain": [
       "   ID  LIMIT_BAL     SEX   EDUCATION  MARRIAGE  AGE  PAY_0  PAY_2  PAY_3  \\\n",
       "0   1      20000  female  university         1   24      2      2     -1   \n",
       "1   2     120000  female  university         2   26     -1      2      0   \n",
       "2   3      90000  female  university         2   34      0      0      0   \n",
       "3   4      50000  female  university         1   37      0      0      0   \n",
       "4   5      50000    male  university         1   57     -1      0     -1   \n",
       "\n",
       "   PAY_4  ...  BILL_AMT4  BILL_AMT5  BILL_AMT6  PAY_AMT1  PAY_AMT2  PAY_AMT3  \\\n",
       "0     -1  ...          0          0          0         0       689         0   \n",
       "1      0  ...       3272       3455       3261         0      1000      1000   \n",
       "2      0  ...      14331      14948      15549      1518      1500      1000   \n",
       "3      0  ...      28314      28959      29547      2000      2019      1200   \n",
       "4      0  ...      20940      19146      19131      2000     36681     10000   \n",
       "\n",
       "   PAY_AMT4  PAY_AMT5  PAY_AMT6  default payment next month  \n",
       "0         0         0         0                     default  \n",
       "1      1000         0      2000                     default  \n",
       "2      1000      1000      5000                 not default  \n",
       "3      1100      1069      1000                 not default  \n",
       "4      9000       689       679                 not default  \n",
       "\n",
       "[5 rows x 25 columns]"
      ]
     },
     "execution_count": 2,
     "metadata": {},
     "output_type": "execute_result"
    }
   ],
   "source": [
    "#data import\n",
    "credit = pd.read_csv('default of credit card clients.csv')\n",
    "credit.head()"
   ]
  },
  {
   "cell_type": "code",
   "execution_count": 3,
   "metadata": {},
   "outputs": [
    {
     "data": {
      "text/html": [
       "<div>\n",
       "<style scoped>\n",
       "    .dataframe tbody tr th:only-of-type {\n",
       "        vertical-align: middle;\n",
       "    }\n",
       "\n",
       "    .dataframe tbody tr th {\n",
       "        vertical-align: top;\n",
       "    }\n",
       "\n",
       "    .dataframe thead th {\n",
       "        text-align: right;\n",
       "    }\n",
       "</style>\n",
       "<table border=\"1\" class=\"dataframe\">\n",
       "  <thead>\n",
       "    <tr style=\"text-align: right;\">\n",
       "      <th></th>\n",
       "      <th>ID</th>\n",
       "      <th>LIMIT_BAL</th>\n",
       "      <th>MARRIAGE</th>\n",
       "      <th>AGE</th>\n",
       "      <th>PAY_0</th>\n",
       "      <th>PAY_2</th>\n",
       "      <th>PAY_3</th>\n",
       "      <th>PAY_4</th>\n",
       "      <th>PAY_5</th>\n",
       "      <th>PAY_6</th>\n",
       "      <th>...</th>\n",
       "      <th>BILL_AMT3</th>\n",
       "      <th>BILL_AMT4</th>\n",
       "      <th>BILL_AMT5</th>\n",
       "      <th>BILL_AMT6</th>\n",
       "      <th>PAY_AMT1</th>\n",
       "      <th>PAY_AMT2</th>\n",
       "      <th>PAY_AMT3</th>\n",
       "      <th>PAY_AMT4</th>\n",
       "      <th>PAY_AMT5</th>\n",
       "      <th>PAY_AMT6</th>\n",
       "    </tr>\n",
       "  </thead>\n",
       "  <tbody>\n",
       "    <tr>\n",
       "      <th>count</th>\n",
       "      <td>30000.000000</td>\n",
       "      <td>30000.000000</td>\n",
       "      <td>30000.000000</td>\n",
       "      <td>30000.000000</td>\n",
       "      <td>30000.000000</td>\n",
       "      <td>30000.000000</td>\n",
       "      <td>30000.000000</td>\n",
       "      <td>30000.000000</td>\n",
       "      <td>30000.000000</td>\n",
       "      <td>30000.000000</td>\n",
       "      <td>...</td>\n",
       "      <td>3.000000e+04</td>\n",
       "      <td>30000.000000</td>\n",
       "      <td>30000.000000</td>\n",
       "      <td>30000.000000</td>\n",
       "      <td>30000.000000</td>\n",
       "      <td>3.000000e+04</td>\n",
       "      <td>30000.00000</td>\n",
       "      <td>30000.000000</td>\n",
       "      <td>30000.000000</td>\n",
       "      <td>30000.000000</td>\n",
       "    </tr>\n",
       "    <tr>\n",
       "      <th>mean</th>\n",
       "      <td>15000.500000</td>\n",
       "      <td>167484.322667</td>\n",
       "      <td>1.551867</td>\n",
       "      <td>35.485500</td>\n",
       "      <td>-0.016700</td>\n",
       "      <td>-0.133767</td>\n",
       "      <td>-0.166200</td>\n",
       "      <td>-0.220667</td>\n",
       "      <td>-0.266200</td>\n",
       "      <td>-0.291100</td>\n",
       "      <td>...</td>\n",
       "      <td>4.701315e+04</td>\n",
       "      <td>43262.948967</td>\n",
       "      <td>40311.400967</td>\n",
       "      <td>38871.760400</td>\n",
       "      <td>5663.580500</td>\n",
       "      <td>5.921163e+03</td>\n",
       "      <td>5225.68150</td>\n",
       "      <td>4826.076867</td>\n",
       "      <td>4799.387633</td>\n",
       "      <td>5215.502567</td>\n",
       "    </tr>\n",
       "    <tr>\n",
       "      <th>std</th>\n",
       "      <td>8660.398374</td>\n",
       "      <td>129747.661567</td>\n",
       "      <td>0.521970</td>\n",
       "      <td>9.217904</td>\n",
       "      <td>1.123802</td>\n",
       "      <td>1.197186</td>\n",
       "      <td>1.196868</td>\n",
       "      <td>1.169139</td>\n",
       "      <td>1.133187</td>\n",
       "      <td>1.149988</td>\n",
       "      <td>...</td>\n",
       "      <td>6.934939e+04</td>\n",
       "      <td>64332.856134</td>\n",
       "      <td>60797.155770</td>\n",
       "      <td>59554.107537</td>\n",
       "      <td>16563.280354</td>\n",
       "      <td>2.304087e+04</td>\n",
       "      <td>17606.96147</td>\n",
       "      <td>15666.159744</td>\n",
       "      <td>15278.305679</td>\n",
       "      <td>17777.465775</td>\n",
       "    </tr>\n",
       "    <tr>\n",
       "      <th>min</th>\n",
       "      <td>1.000000</td>\n",
       "      <td>10000.000000</td>\n",
       "      <td>0.000000</td>\n",
       "      <td>21.000000</td>\n",
       "      <td>-2.000000</td>\n",
       "      <td>-2.000000</td>\n",
       "      <td>-2.000000</td>\n",
       "      <td>-2.000000</td>\n",
       "      <td>-2.000000</td>\n",
       "      <td>-2.000000</td>\n",
       "      <td>...</td>\n",
       "      <td>-1.572640e+05</td>\n",
       "      <td>-170000.000000</td>\n",
       "      <td>-81334.000000</td>\n",
       "      <td>-339603.000000</td>\n",
       "      <td>0.000000</td>\n",
       "      <td>0.000000e+00</td>\n",
       "      <td>0.00000</td>\n",
       "      <td>0.000000</td>\n",
       "      <td>0.000000</td>\n",
       "      <td>0.000000</td>\n",
       "    </tr>\n",
       "    <tr>\n",
       "      <th>25%</th>\n",
       "      <td>7500.750000</td>\n",
       "      <td>50000.000000</td>\n",
       "      <td>1.000000</td>\n",
       "      <td>28.000000</td>\n",
       "      <td>-1.000000</td>\n",
       "      <td>-1.000000</td>\n",
       "      <td>-1.000000</td>\n",
       "      <td>-1.000000</td>\n",
       "      <td>-1.000000</td>\n",
       "      <td>-1.000000</td>\n",
       "      <td>...</td>\n",
       "      <td>2.666250e+03</td>\n",
       "      <td>2326.750000</td>\n",
       "      <td>1763.000000</td>\n",
       "      <td>1256.000000</td>\n",
       "      <td>1000.000000</td>\n",
       "      <td>8.330000e+02</td>\n",
       "      <td>390.00000</td>\n",
       "      <td>296.000000</td>\n",
       "      <td>252.500000</td>\n",
       "      <td>117.750000</td>\n",
       "    </tr>\n",
       "    <tr>\n",
       "      <th>50%</th>\n",
       "      <td>15000.500000</td>\n",
       "      <td>140000.000000</td>\n",
       "      <td>2.000000</td>\n",
       "      <td>34.000000</td>\n",
       "      <td>0.000000</td>\n",
       "      <td>0.000000</td>\n",
       "      <td>0.000000</td>\n",
       "      <td>0.000000</td>\n",
       "      <td>0.000000</td>\n",
       "      <td>0.000000</td>\n",
       "      <td>...</td>\n",
       "      <td>2.008850e+04</td>\n",
       "      <td>19052.000000</td>\n",
       "      <td>18104.500000</td>\n",
       "      <td>17071.000000</td>\n",
       "      <td>2100.000000</td>\n",
       "      <td>2.009000e+03</td>\n",
       "      <td>1800.00000</td>\n",
       "      <td>1500.000000</td>\n",
       "      <td>1500.000000</td>\n",
       "      <td>1500.000000</td>\n",
       "    </tr>\n",
       "    <tr>\n",
       "      <th>75%</th>\n",
       "      <td>22500.250000</td>\n",
       "      <td>240000.000000</td>\n",
       "      <td>2.000000</td>\n",
       "      <td>41.000000</td>\n",
       "      <td>0.000000</td>\n",
       "      <td>0.000000</td>\n",
       "      <td>0.000000</td>\n",
       "      <td>0.000000</td>\n",
       "      <td>0.000000</td>\n",
       "      <td>0.000000</td>\n",
       "      <td>...</td>\n",
       "      <td>6.016475e+04</td>\n",
       "      <td>54506.000000</td>\n",
       "      <td>50190.500000</td>\n",
       "      <td>49198.250000</td>\n",
       "      <td>5006.000000</td>\n",
       "      <td>5.000000e+03</td>\n",
       "      <td>4505.00000</td>\n",
       "      <td>4013.250000</td>\n",
       "      <td>4031.500000</td>\n",
       "      <td>4000.000000</td>\n",
       "    </tr>\n",
       "    <tr>\n",
       "      <th>max</th>\n",
       "      <td>30000.000000</td>\n",
       "      <td>1000000.000000</td>\n",
       "      <td>3.000000</td>\n",
       "      <td>79.000000</td>\n",
       "      <td>8.000000</td>\n",
       "      <td>8.000000</td>\n",
       "      <td>8.000000</td>\n",
       "      <td>8.000000</td>\n",
       "      <td>8.000000</td>\n",
       "      <td>8.000000</td>\n",
       "      <td>...</td>\n",
       "      <td>1.664089e+06</td>\n",
       "      <td>891586.000000</td>\n",
       "      <td>927171.000000</td>\n",
       "      <td>961664.000000</td>\n",
       "      <td>873552.000000</td>\n",
       "      <td>1.684259e+06</td>\n",
       "      <td>896040.00000</td>\n",
       "      <td>621000.000000</td>\n",
       "      <td>426529.000000</td>\n",
       "      <td>528666.000000</td>\n",
       "    </tr>\n",
       "  </tbody>\n",
       "</table>\n",
       "<p>8 rows × 22 columns</p>\n",
       "</div>"
      ],
      "text/plain": [
       "                 ID       LIMIT_BAL      MARRIAGE           AGE         PAY_0  \\\n",
       "count  30000.000000    30000.000000  30000.000000  30000.000000  30000.000000   \n",
       "mean   15000.500000   167484.322667      1.551867     35.485500     -0.016700   \n",
       "std     8660.398374   129747.661567      0.521970      9.217904      1.123802   \n",
       "min        1.000000    10000.000000      0.000000     21.000000     -2.000000   \n",
       "25%     7500.750000    50000.000000      1.000000     28.000000     -1.000000   \n",
       "50%    15000.500000   140000.000000      2.000000     34.000000      0.000000   \n",
       "75%    22500.250000   240000.000000      2.000000     41.000000      0.000000   \n",
       "max    30000.000000  1000000.000000      3.000000     79.000000      8.000000   \n",
       "\n",
       "              PAY_2         PAY_3         PAY_4         PAY_5         PAY_6  \\\n",
       "count  30000.000000  30000.000000  30000.000000  30000.000000  30000.000000   \n",
       "mean      -0.133767     -0.166200     -0.220667     -0.266200     -0.291100   \n",
       "std        1.197186      1.196868      1.169139      1.133187      1.149988   \n",
       "min       -2.000000     -2.000000     -2.000000     -2.000000     -2.000000   \n",
       "25%       -1.000000     -1.000000     -1.000000     -1.000000     -1.000000   \n",
       "50%        0.000000      0.000000      0.000000      0.000000      0.000000   \n",
       "75%        0.000000      0.000000      0.000000      0.000000      0.000000   \n",
       "max        8.000000      8.000000      8.000000      8.000000      8.000000   \n",
       "\n",
       "       ...     BILL_AMT3      BILL_AMT4      BILL_AMT5      BILL_AMT6  \\\n",
       "count  ...  3.000000e+04   30000.000000   30000.000000   30000.000000   \n",
       "mean   ...  4.701315e+04   43262.948967   40311.400967   38871.760400   \n",
       "std    ...  6.934939e+04   64332.856134   60797.155770   59554.107537   \n",
       "min    ... -1.572640e+05 -170000.000000  -81334.000000 -339603.000000   \n",
       "25%    ...  2.666250e+03    2326.750000    1763.000000    1256.000000   \n",
       "50%    ...  2.008850e+04   19052.000000   18104.500000   17071.000000   \n",
       "75%    ...  6.016475e+04   54506.000000   50190.500000   49198.250000   \n",
       "max    ...  1.664089e+06  891586.000000  927171.000000  961664.000000   \n",
       "\n",
       "            PAY_AMT1      PAY_AMT2      PAY_AMT3       PAY_AMT4  \\\n",
       "count   30000.000000  3.000000e+04   30000.00000   30000.000000   \n",
       "mean     5663.580500  5.921163e+03    5225.68150    4826.076867   \n",
       "std     16563.280354  2.304087e+04   17606.96147   15666.159744   \n",
       "min         0.000000  0.000000e+00       0.00000       0.000000   \n",
       "25%      1000.000000  8.330000e+02     390.00000     296.000000   \n",
       "50%      2100.000000  2.009000e+03    1800.00000    1500.000000   \n",
       "75%      5006.000000  5.000000e+03    4505.00000    4013.250000   \n",
       "max    873552.000000  1.684259e+06  896040.00000  621000.000000   \n",
       "\n",
       "            PAY_AMT5       PAY_AMT6  \n",
       "count   30000.000000   30000.000000  \n",
       "mean     4799.387633    5215.502567  \n",
       "std     15278.305679   17777.465775  \n",
       "min         0.000000       0.000000  \n",
       "25%       252.500000     117.750000  \n",
       "50%      1500.000000    1500.000000  \n",
       "75%      4031.500000    4000.000000  \n",
       "max    426529.000000  528666.000000  \n",
       "\n",
       "[8 rows x 22 columns]"
      ]
     },
     "execution_count": 3,
     "metadata": {},
     "output_type": "execute_result"
    }
   ],
   "source": [
    "credit.describe()"
   ]
  },
  {
   "cell_type": "code",
   "execution_count": 4,
   "metadata": {},
   "outputs": [],
   "source": [
    "#Rename Columns\n",
    "credit['default']=credit['default payment next month']\n",
    "credit['limit']=credit['LIMIT_BAL']\n",
    "credit['sex']=credit['SEX']\n",
    "credit['education']=credit['EDUCATION']\n",
    "credit['marriage']=credit['MARRIAGE']\n",
    "credit['age']=credit['AGE']\n",
    "#edit['sex']drop unneeded columns\n",
    "credit = credit.drop(['ID', 'default payment next month', \"LIMIT_BAL\",\"SEX\",\"EDUCATION\",\"MARRIAGE\", 'AGE'], axis=1)\n",
    "#drop duplicates\n",
    "credit = credit.drop_duplicates()\n",
    "#check for nulls\n",
    "nulls=credit.isnull().sum()\n",
    "nulls\n",
    "#There is only 1 super high value and it's not defaulted on.\n",
    "#Further analysis saw there were only 6 defaults above 600,000\n",
    "credit = credit[credit.limit < 600001]"
   ]
  },
  {
   "cell_type": "code",
   "execution_count": 5,
   "metadata": {},
   "outputs": [
    {
     "data": {
      "text/plain": [
       "PAY_0         int64\n",
       "PAY_2         int64\n",
       "PAY_3         int64\n",
       "PAY_4         int64\n",
       "PAY_5         int64\n",
       "PAY_6         int64\n",
       "BILL_AMT1     int64\n",
       "BILL_AMT2     int64\n",
       "BILL_AMT3     int64\n",
       "BILL_AMT4     int64\n",
       "BILL_AMT5     int64\n",
       "BILL_AMT6     int64\n",
       "PAY_AMT1      int64\n",
       "PAY_AMT2      int64\n",
       "PAY_AMT3      int64\n",
       "PAY_AMT4      int64\n",
       "PAY_AMT5      int64\n",
       "PAY_AMT6      int64\n",
       "default      object\n",
       "limit         int64\n",
       "sex          object\n",
       "education    object\n",
       "marriage      int64\n",
       "age           int64\n",
       "dtype: object"
      ]
     },
     "execution_count": 5,
     "metadata": {},
     "output_type": "execute_result"
    }
   ],
   "source": [
    "#Check the data types:  Note default, sex, and education are categories\n",
    "credit.dtypes"
   ]
  },
  {
   "cell_type": "code",
   "execution_count": 6,
   "metadata": {},
   "outputs": [],
   "source": [
    "      #shift pay features for -2\n",
    "credit['PAY_0'] = credit['PAY_0'].replace(-2,0)\n",
    "credit['PAY_2'] = credit['PAY_2'].replace(-2,0)\n",
    "credit['PAY_3'] = credit['PAY_3'].replace(-2,0)\n",
    "credit['PAY_4'] = credit['PAY_4'].replace(-2,0)\n",
    "credit['PAY_5'] = credit['PAY_5'].replace(-2,0)\n",
    "credit['PAY_6'] = credit['PAY_6'].replace(-2,0)\n",
    "\n",
    "#shift pay features for -1\n",
    "credit['PAY_0'] = credit['PAY_0'].replace(-1,0)\n",
    "credit['PAY_2'] = credit['PAY_2'].replace(-1,0)\n",
    "credit['PAY_3'] = credit['PAY_3'].replace(-1,0)\n",
    "credit['PAY_4'] = credit['PAY_4'].replace(-1,0)\n",
    "credit['PAY_5'] = credit['PAY_5'].replace(-1,0)\n",
    "credit['PAY_6'] = credit['PAY_6'].replace(-1,0)"
   ]
  },
  {
   "cell_type": "markdown",
   "metadata": {},
   "source": [
    "* Average age is 35.4   "
   ]
  },
  {
   "cell_type": "code",
   "execution_count": 7,
   "metadata": {},
   "outputs": [
    {
     "data": {
      "text/plain": [
       "count    29886.000000\n",
       "mean        35.478318\n",
       "std          9.220866\n",
       "min         21.000000\n",
       "25%         28.000000\n",
       "50%         34.000000\n",
       "75%         41.000000\n",
       "max         79.000000\n",
       "Name: age, dtype: float64"
      ]
     },
     "execution_count": 7,
     "metadata": {},
     "output_type": "execute_result"
    }
   ],
   "source": [
    "credit['age'].describe()"
   ]
  },
  {
   "cell_type": "code",
   "execution_count": 8,
   "metadata": {},
   "outputs": [],
   "source": [
    "#Binning the ages into groups by decades. Age 60+ represented 1% of total customers so I have biggest group of 50+\n",
    "bins = [20,29,39,49,80]\n",
    "\n",
    "credit['age_groups'] = pd.cut(credit['age'], bins=bins, labels =['20s', '30s','40s','50+'])"
   ]
  },
  {
   "cell_type": "code",
   "execution_count": 9,
   "metadata": {},
   "outputs": [
    {
     "data": {
      "text/plain": [
       "20s     9595\n",
       "30s    11189\n",
       "40s     6434\n",
       "50+     2668\n",
       "Name: age_groups, dtype: int64"
      ]
     },
     "execution_count": 9,
     "metadata": {},
     "output_type": "execute_result"
    }
   ],
   "source": [
    "#How many total creditors are in each age group.  \n",
    "credit['age_groups'].value_counts(sort=False)"
   ]
  },
  {
   "cell_type": "code",
   "execution_count": 10,
   "metadata": {},
   "outputs": [
    {
     "data": {
      "text/plain": [
       "count     29886.000000\n",
       "mean     166097.493141\n",
       "std      127223.308653\n",
       "min       10000.000000\n",
       "25%       50000.000000\n",
       "50%      140000.000000\n",
       "75%      240000.000000\n",
       "max      600000.000000\n",
       "Name: limit, dtype: float64"
      ]
     },
     "execution_count": 10,
     "metadata": {},
     "output_type": "execute_result"
    }
   ],
   "source": [
    "#Mean credit limit for all customers is $166,097\n",
    "credit['limit'].describe()"
   ]
  },
  {
   "cell_type": "code",
   "execution_count": 11,
   "metadata": {},
   "outputs": [],
   "source": [
    "#I binned the credit limits. I wanted to separate the lowest limit of $10,000 in its own category.\n",
    "bins = [9999,10000,25000,50000 ,100000,200000,400000,600000]\n",
    "credit['limit_groups'] = pd.cut(credit['limit'],bins=bins, labels=['minimum', '(10-25]','(25-50]','(50-100]','(100-200]','(200-400]','(400-600]'])"
   ]
  },
  {
   "cell_type": "code",
   "execution_count": 12,
   "metadata": {},
   "outputs": [
    {
     "data": {
      "text/plain": [
       "minimum       493\n",
       "(10-25]      1977\n",
       "(25-50]      5203\n",
       "(50-100]     4817\n",
       "(100-200]    7867\n",
       "(200-400]    7805\n",
       "(400-600]    1724\n",
       "Name: limit_groups, dtype: int64"
      ]
     },
     "execution_count": 12,
     "metadata": {},
     "output_type": "execute_result"
    }
   ],
   "source": [
    "#note there are a total of 493 with the $10,1000 minimum\n",
    "credit['limit_groups'].value_counts(sort=False)"
   ]
  },
  {
   "cell_type": "code",
   "execution_count": 13,
   "metadata": {},
   "outputs": [
    {
     "data": {
      "text/html": [
       "<div>\n",
       "<style scoped>\n",
       "    .dataframe tbody tr th:only-of-type {\n",
       "        vertical-align: middle;\n",
       "    }\n",
       "\n",
       "    .dataframe tbody tr th {\n",
       "        vertical-align: top;\n",
       "    }\n",
       "\n",
       "    .dataframe thead th {\n",
       "        text-align: right;\n",
       "    }\n",
       "</style>\n",
       "<table border=\"1\" class=\"dataframe\">\n",
       "  <thead>\n",
       "    <tr style=\"text-align: right;\">\n",
       "      <th></th>\n",
       "      <th>PAY_0</th>\n",
       "      <th>PAY_2</th>\n",
       "      <th>PAY_3</th>\n",
       "      <th>PAY_4</th>\n",
       "      <th>PAY_5</th>\n",
       "      <th>PAY_6</th>\n",
       "      <th>BILL_AMT1</th>\n",
       "      <th>BILL_AMT2</th>\n",
       "      <th>BILL_AMT3</th>\n",
       "      <th>BILL_AMT4</th>\n",
       "      <th>...</th>\n",
       "      <th>PAY_AMT5</th>\n",
       "      <th>PAY_AMT6</th>\n",
       "      <th>default</th>\n",
       "      <th>limit</th>\n",
       "      <th>sex</th>\n",
       "      <th>education</th>\n",
       "      <th>marriage</th>\n",
       "      <th>age</th>\n",
       "      <th>age_groups</th>\n",
       "      <th>limit_groups</th>\n",
       "    </tr>\n",
       "  </thead>\n",
       "  <tbody>\n",
       "    <tr>\n",
       "      <th>0</th>\n",
       "      <td>2</td>\n",
       "      <td>2</td>\n",
       "      <td>0</td>\n",
       "      <td>0</td>\n",
       "      <td>0</td>\n",
       "      <td>0</td>\n",
       "      <td>3913</td>\n",
       "      <td>3102</td>\n",
       "      <td>689</td>\n",
       "      <td>0</td>\n",
       "      <td>...</td>\n",
       "      <td>0</td>\n",
       "      <td>0</td>\n",
       "      <td>default</td>\n",
       "      <td>20000</td>\n",
       "      <td>female</td>\n",
       "      <td>university</td>\n",
       "      <td>1</td>\n",
       "      <td>24</td>\n",
       "      <td>20s</td>\n",
       "      <td>(10-25]</td>\n",
       "    </tr>\n",
       "    <tr>\n",
       "      <th>1</th>\n",
       "      <td>0</td>\n",
       "      <td>2</td>\n",
       "      <td>0</td>\n",
       "      <td>0</td>\n",
       "      <td>0</td>\n",
       "      <td>2</td>\n",
       "      <td>2682</td>\n",
       "      <td>1725</td>\n",
       "      <td>2682</td>\n",
       "      <td>3272</td>\n",
       "      <td>...</td>\n",
       "      <td>0</td>\n",
       "      <td>2000</td>\n",
       "      <td>default</td>\n",
       "      <td>120000</td>\n",
       "      <td>female</td>\n",
       "      <td>university</td>\n",
       "      <td>2</td>\n",
       "      <td>26</td>\n",
       "      <td>20s</td>\n",
       "      <td>(100-200]</td>\n",
       "    </tr>\n",
       "    <tr>\n",
       "      <th>2</th>\n",
       "      <td>0</td>\n",
       "      <td>0</td>\n",
       "      <td>0</td>\n",
       "      <td>0</td>\n",
       "      <td>0</td>\n",
       "      <td>0</td>\n",
       "      <td>29239</td>\n",
       "      <td>14027</td>\n",
       "      <td>13559</td>\n",
       "      <td>14331</td>\n",
       "      <td>...</td>\n",
       "      <td>1000</td>\n",
       "      <td>5000</td>\n",
       "      <td>not default</td>\n",
       "      <td>90000</td>\n",
       "      <td>female</td>\n",
       "      <td>university</td>\n",
       "      <td>2</td>\n",
       "      <td>34</td>\n",
       "      <td>30s</td>\n",
       "      <td>(50-100]</td>\n",
       "    </tr>\n",
       "    <tr>\n",
       "      <th>3</th>\n",
       "      <td>0</td>\n",
       "      <td>0</td>\n",
       "      <td>0</td>\n",
       "      <td>0</td>\n",
       "      <td>0</td>\n",
       "      <td>0</td>\n",
       "      <td>46990</td>\n",
       "      <td>48233</td>\n",
       "      <td>49291</td>\n",
       "      <td>28314</td>\n",
       "      <td>...</td>\n",
       "      <td>1069</td>\n",
       "      <td>1000</td>\n",
       "      <td>not default</td>\n",
       "      <td>50000</td>\n",
       "      <td>female</td>\n",
       "      <td>university</td>\n",
       "      <td>1</td>\n",
       "      <td>37</td>\n",
       "      <td>30s</td>\n",
       "      <td>(25-50]</td>\n",
       "    </tr>\n",
       "    <tr>\n",
       "      <th>4</th>\n",
       "      <td>0</td>\n",
       "      <td>0</td>\n",
       "      <td>0</td>\n",
       "      <td>0</td>\n",
       "      <td>0</td>\n",
       "      <td>0</td>\n",
       "      <td>8617</td>\n",
       "      <td>5670</td>\n",
       "      <td>35835</td>\n",
       "      <td>20940</td>\n",
       "      <td>...</td>\n",
       "      <td>689</td>\n",
       "      <td>679</td>\n",
       "      <td>not default</td>\n",
       "      <td>50000</td>\n",
       "      <td>male</td>\n",
       "      <td>university</td>\n",
       "      <td>1</td>\n",
       "      <td>57</td>\n",
       "      <td>50+</td>\n",
       "      <td>(25-50]</td>\n",
       "    </tr>\n",
       "  </tbody>\n",
       "</table>\n",
       "<p>5 rows × 26 columns</p>\n",
       "</div>"
      ],
      "text/plain": [
       "   PAY_0  PAY_2  PAY_3  PAY_4  PAY_5  PAY_6  BILL_AMT1  BILL_AMT2  BILL_AMT3  \\\n",
       "0      2      2      0      0      0      0       3913       3102        689   \n",
       "1      0      2      0      0      0      2       2682       1725       2682   \n",
       "2      0      0      0      0      0      0      29239      14027      13559   \n",
       "3      0      0      0      0      0      0      46990      48233      49291   \n",
       "4      0      0      0      0      0      0       8617       5670      35835   \n",
       "\n",
       "   BILL_AMT4  ...  PAY_AMT5  PAY_AMT6      default   limit     sex  \\\n",
       "0          0  ...         0         0      default   20000  female   \n",
       "1       3272  ...         0      2000      default  120000  female   \n",
       "2      14331  ...      1000      5000  not default   90000  female   \n",
       "3      28314  ...      1069      1000  not default   50000  female   \n",
       "4      20940  ...       689       679  not default   50000    male   \n",
       "\n",
       "    education  marriage  age age_groups  limit_groups  \n",
       "0  university         1   24        20s       (10-25]  \n",
       "1  university         2   26        20s     (100-200]  \n",
       "2  university         2   34        30s      (50-100]  \n",
       "3  university         1   37        30s       (25-50]  \n",
       "4  university         1   57        50+       (25-50]  \n",
       "\n",
       "[5 rows x 26 columns]"
      ]
     },
     "execution_count": 13,
     "metadata": {},
     "output_type": "execute_result"
    }
   ],
   "source": [
    "#Look to see if they have limits and ages have been binned.\n",
    "credit.head()"
   ]
  },
  {
   "cell_type": "markdown",
   "metadata": {},
   "source": [
    "# Data Seperated into Bad_Credit and Good_Credit\n",
    "<p> Determined by whether or not they defaulted the next month."
   ]
  },
  {
   "cell_type": "code",
   "execution_count": 14,
   "metadata": {},
   "outputs": [],
   "source": [
    "#divide into 2 groups.  Those that defaulted and those that did not\n",
    "bad_credit = credit[credit.default == 'default']\n",
    "good_credit = credit[credit.default == 'not default']"
   ]
  },
  {
   "cell_type": "code",
   "execution_count": 15,
   "metadata": {},
   "outputs": [
    {
     "data": {
      "text/html": [
       "<div>\n",
       "<style scoped>\n",
       "    .dataframe tbody tr th:only-of-type {\n",
       "        vertical-align: middle;\n",
       "    }\n",
       "\n",
       "    .dataframe tbody tr th {\n",
       "        vertical-align: top;\n",
       "    }\n",
       "\n",
       "    .dataframe thead th {\n",
       "        text-align: right;\n",
       "    }\n",
       "</style>\n",
       "<table border=\"1\" class=\"dataframe\">\n",
       "  <thead>\n",
       "    <tr style=\"text-align: right;\">\n",
       "      <th></th>\n",
       "      <th>default</th>\n",
       "      <th>non_default</th>\n",
       "    </tr>\n",
       "  </thead>\n",
       "  <tbody>\n",
       "    <tr>\n",
       "      <th>minimum</th>\n",
       "      <td>197</td>\n",
       "      <td>296</td>\n",
       "    </tr>\n",
       "    <tr>\n",
       "      <th>(10-25]</th>\n",
       "      <td>697</td>\n",
       "      <td>1280</td>\n",
       "    </tr>\n",
       "    <tr>\n",
       "      <th>(25-50]</th>\n",
       "      <td>1545</td>\n",
       "      <td>3658</td>\n",
       "    </tr>\n",
       "    <tr>\n",
       "      <th>(50-100]</th>\n",
       "      <td>1244</td>\n",
       "      <td>3573</td>\n",
       "    </tr>\n",
       "    <tr>\n",
       "      <th>(100-200]</th>\n",
       "      <td>1534</td>\n",
       "      <td>6333</td>\n",
       "    </tr>\n",
       "    <tr>\n",
       "      <th>(200-400]</th>\n",
       "      <td>1197</td>\n",
       "      <td>6608</td>\n",
       "    </tr>\n",
       "    <tr>\n",
       "      <th>(400-600]</th>\n",
       "      <td>210</td>\n",
       "      <td>1514</td>\n",
       "    </tr>\n",
       "  </tbody>\n",
       "</table>\n",
       "</div>"
      ],
      "text/plain": [
       "           default  non_default\n",
       "minimum        197          296\n",
       "(10-25]        697         1280\n",
       "(25-50]       1545         3658\n",
       "(50-100]      1244         3573\n",
       "(100-200]     1534         6333\n",
       "(200-400]     1197         6608\n",
       "(400-600]      210         1514"
      ]
     },
     "execution_count": 15,
     "metadata": {},
     "output_type": "execute_result"
    }
   ],
   "source": [
    "# Table to show the number of defaulter vs non-defaulters in each credit limit group\n",
    "b=bad_credit['limit_groups'].value_counts(sort=False)\n",
    "#b.rename(columns = {'limit_groups':\"default\"})\n",
    "g=good_credit['limit_groups'].value_counts(sort=False)\n",
    "pd.concat([b,g],axis=1, keys=['default','non_default'])\n"
   ]
  },
  {
   "cell_type": "code",
   "execution_count": 16,
   "metadata": {},
   "outputs": [
    {
     "data": {
      "text/plain": [
       "count       7.000000\n",
       "mean      946.285714\n",
       "std       580.380253\n",
       "min       197.000000\n",
       "25%       453.500000\n",
       "50%      1197.000000\n",
       "75%      1389.000000\n",
       "max      1545.000000\n",
       "Name: limit_groups, dtype: float64"
      ]
     },
     "execution_count": 16,
     "metadata": {},
     "output_type": "execute_result"
    }
   ],
   "source": [
    "b.describe()"
   ]
  },
  {
   "cell_type": "code",
   "execution_count": 17,
   "metadata": {},
   "outputs": [
    {
     "data": {
      "text/html": [
       "<div>\n",
       "<style scoped>\n",
       "    .dataframe tbody tr th:only-of-type {\n",
       "        vertical-align: middle;\n",
       "    }\n",
       "\n",
       "    .dataframe tbody tr th {\n",
       "        vertical-align: top;\n",
       "    }\n",
       "\n",
       "    .dataframe thead th {\n",
       "        text-align: right;\n",
       "    }\n",
       "</style>\n",
       "<table border=\"1\" class=\"dataframe\">\n",
       "  <thead>\n",
       "    <tr style=\"text-align: right;\">\n",
       "      <th></th>\n",
       "      <th></th>\n",
       "      <th>default</th>\n",
       "      <th>non_default</th>\n",
       "    </tr>\n",
       "    <tr>\n",
       "      <th>age_groups</th>\n",
       "      <th>limit_groups</th>\n",
       "      <th></th>\n",
       "      <th></th>\n",
       "    </tr>\n",
       "  </thead>\n",
       "  <tbody>\n",
       "    <tr>\n",
       "      <th rowspan=\"7\" valign=\"top\">20s</th>\n",
       "      <th>minimum</th>\n",
       "      <td>93</td>\n",
       "      <td>159</td>\n",
       "    </tr>\n",
       "    <tr>\n",
       "      <th>(10-25]</th>\n",
       "      <td>302</td>\n",
       "      <td>633</td>\n",
       "    </tr>\n",
       "    <tr>\n",
       "      <th>(25-50]</th>\n",
       "      <td>659</td>\n",
       "      <td>1562</td>\n",
       "    </tr>\n",
       "    <tr>\n",
       "      <th>(50-100]</th>\n",
       "      <td>476</td>\n",
       "      <td>1492</td>\n",
       "    </tr>\n",
       "    <tr>\n",
       "      <th>(100-200]</th>\n",
       "      <td>435</td>\n",
       "      <td>2013</td>\n",
       "    </tr>\n",
       "    <tr>\n",
       "      <th>(200-400]</th>\n",
       "      <td>214</td>\n",
       "      <td>1357</td>\n",
       "    </tr>\n",
       "    <tr>\n",
       "      <th>(400-600]</th>\n",
       "      <td>16</td>\n",
       "      <td>184</td>\n",
       "    </tr>\n",
       "    <tr>\n",
       "      <th rowspan=\"7\" valign=\"top\">30s</th>\n",
       "      <th>minimum</th>\n",
       "      <td>35</td>\n",
       "      <td>66</td>\n",
       "    </tr>\n",
       "    <tr>\n",
       "      <th>(10-25]</th>\n",
       "      <td>169</td>\n",
       "      <td>286</td>\n",
       "    </tr>\n",
       "    <tr>\n",
       "      <th>(25-50]</th>\n",
       "      <td>405</td>\n",
       "      <td>923</td>\n",
       "    </tr>\n",
       "    <tr>\n",
       "      <th>(50-100]</th>\n",
       "      <td>402</td>\n",
       "      <td>1105</td>\n",
       "    </tr>\n",
       "    <tr>\n",
       "      <th>(100-200]</th>\n",
       "      <td>619</td>\n",
       "      <td>2571</td>\n",
       "    </tr>\n",
       "    <tr>\n",
       "      <th>(200-400]</th>\n",
       "      <td>550</td>\n",
       "      <td>3217</td>\n",
       "    </tr>\n",
       "    <tr>\n",
       "      <th>(400-600]</th>\n",
       "      <td>93</td>\n",
       "      <td>748</td>\n",
       "    </tr>\n",
       "    <tr>\n",
       "      <th rowspan=\"7\" valign=\"top\">40s</th>\n",
       "      <th>minimum</th>\n",
       "      <td>50</td>\n",
       "      <td>46</td>\n",
       "    </tr>\n",
       "    <tr>\n",
       "      <th>(10-25]</th>\n",
       "      <td>156</td>\n",
       "      <td>225</td>\n",
       "    </tr>\n",
       "    <tr>\n",
       "      <th>(25-50]</th>\n",
       "      <td>305</td>\n",
       "      <td>778</td>\n",
       "    </tr>\n",
       "    <tr>\n",
       "      <th>(50-100]</th>\n",
       "      <td>258</td>\n",
       "      <td>662</td>\n",
       "    </tr>\n",
       "    <tr>\n",
       "      <th>(100-200]</th>\n",
       "      <td>334</td>\n",
       "      <td>1305</td>\n",
       "    </tr>\n",
       "    <tr>\n",
       "      <th>(200-400]</th>\n",
       "      <td>310</td>\n",
       "      <td>1525</td>\n",
       "    </tr>\n",
       "    <tr>\n",
       "      <th>(400-600]</th>\n",
       "      <td>65</td>\n",
       "      <td>415</td>\n",
       "    </tr>\n",
       "    <tr>\n",
       "      <th rowspan=\"7\" valign=\"top\">50+</th>\n",
       "      <th>minimum</th>\n",
       "      <td>19</td>\n",
       "      <td>25</td>\n",
       "    </tr>\n",
       "    <tr>\n",
       "      <th>(10-25]</th>\n",
       "      <td>70</td>\n",
       "      <td>136</td>\n",
       "    </tr>\n",
       "    <tr>\n",
       "      <th>(25-50]</th>\n",
       "      <td>176</td>\n",
       "      <td>395</td>\n",
       "    </tr>\n",
       "    <tr>\n",
       "      <th>(50-100]</th>\n",
       "      <td>108</td>\n",
       "      <td>314</td>\n",
       "    </tr>\n",
       "    <tr>\n",
       "      <th>(100-200]</th>\n",
       "      <td>146</td>\n",
       "      <td>444</td>\n",
       "    </tr>\n",
       "    <tr>\n",
       "      <th>(200-400]</th>\n",
       "      <td>123</td>\n",
       "      <td>509</td>\n",
       "    </tr>\n",
       "    <tr>\n",
       "      <th>(400-600]</th>\n",
       "      <td>36</td>\n",
       "      <td>167</td>\n",
       "    </tr>\n",
       "  </tbody>\n",
       "</table>\n",
       "</div>"
      ],
      "text/plain": [
       "                         default  non_default\n",
       "age_groups limit_groups                      \n",
       "20s        minimum            93          159\n",
       "           (10-25]           302          633\n",
       "           (25-50]           659         1562\n",
       "           (50-100]          476         1492\n",
       "           (100-200]         435         2013\n",
       "           (200-400]         214         1357\n",
       "           (400-600]          16          184\n",
       "30s        minimum            35           66\n",
       "           (10-25]           169          286\n",
       "           (25-50]           405          923\n",
       "           (50-100]          402         1105\n",
       "           (100-200]         619         2571\n",
       "           (200-400]         550         3217\n",
       "           (400-600]          93          748\n",
       "40s        minimum            50           46\n",
       "           (10-25]           156          225\n",
       "           (25-50]           305          778\n",
       "           (50-100]          258          662\n",
       "           (100-200]         334         1305\n",
       "           (200-400]         310         1525\n",
       "           (400-600]          65          415\n",
       "50+        minimum            19           25\n",
       "           (10-25]            70          136\n",
       "           (25-50]           176          395\n",
       "           (50-100]          108          314\n",
       "           (100-200]         146          444\n",
       "           (200-400]         123          509\n",
       "           (400-600]          36          167"
      ]
     },
     "execution_count": 17,
     "metadata": {},
     "output_type": "execute_result"
    }
   ],
   "source": [
    "#Table to show each age group in credit limit groups\n",
    "b1=bad_credit.groupby(by=['age_groups','limit_groups']).size()\n",
    "g1=good_credit.groupby(by=['age_groups','limit_groups']).size()\n",
    "pd.concat([b1,g1],axis=1, keys=['default','non_default'])"
   ]
  },
  {
   "cell_type": "code",
   "execution_count": 18,
   "metadata": {},
   "outputs": [
    {
     "data": {
      "text/plain": [
       "(count        6624\n",
       " unique          1\n",
       " top       default\n",
       " freq         6624\n",
       " Name: default, dtype: object,\n",
       " count           23262\n",
       " unique              1\n",
       " top       not default\n",
       " freq            23262\n",
       " Name: default, dtype: object)"
      ]
     },
     "execution_count": 18,
     "metadata": {},
     "output_type": "execute_result"
    }
   ],
   "source": [
    "#There are 6624 that defaulted the next month and 23262 that did not\n",
    "bad_credit['default'].describe() ,good_credit['default'].describe()"
   ]
  },
  {
   "cell_type": "code",
   "execution_count": 19,
   "metadata": {},
   "outputs": [
    {
     "name": "stdout",
     "output_type": "stream",
     "text": [
      "The average default rate is  0.221642240513953\n"
     ]
    }
   ],
   "source": [
    "print('The average default rate is ', 6624/(6624+23262))"
   ]
  },
  {
   "cell_type": "code",
   "execution_count": 20,
   "metadata": {},
   "outputs": [
    {
     "data": {
      "text/html": [
       "<div>\n",
       "<style scoped>\n",
       "    .dataframe tbody tr th:only-of-type {\n",
       "        vertical-align: middle;\n",
       "    }\n",
       "\n",
       "    .dataframe tbody tr th {\n",
       "        vertical-align: top;\n",
       "    }\n",
       "\n",
       "    .dataframe thead th {\n",
       "        text-align: right;\n",
       "    }\n",
       "</style>\n",
       "<table border=\"1\" class=\"dataframe\">\n",
       "  <thead>\n",
       "    <tr style=\"text-align: right;\">\n",
       "      <th></th>\n",
       "      <th>default</th>\n",
       "      <th>non_default</th>\n",
       "    </tr>\n",
       "  </thead>\n",
       "  <tbody>\n",
       "    <tr>\n",
       "      <th>count</th>\n",
       "      <td>6624.000000</td>\n",
       "      <td>23262.000000</td>\n",
       "    </tr>\n",
       "    <tr>\n",
       "      <th>mean</th>\n",
       "      <td>129483.345411</td>\n",
       "      <td>176523.600722</td>\n",
       "    </tr>\n",
       "    <tr>\n",
       "      <th>std</th>\n",
       "      <td>114092.543332</td>\n",
       "      <td>128833.990435</td>\n",
       "    </tr>\n",
       "    <tr>\n",
       "      <th>min</th>\n",
       "      <td>10000.000000</td>\n",
       "      <td>10000.000000</td>\n",
       "    </tr>\n",
       "    <tr>\n",
       "      <th>25%</th>\n",
       "      <td>50000.000000</td>\n",
       "      <td>60000.000000</td>\n",
       "    </tr>\n",
       "    <tr>\n",
       "      <th>50%</th>\n",
       "      <td>90000.000000</td>\n",
       "      <td>150000.000000</td>\n",
       "    </tr>\n",
       "    <tr>\n",
       "      <th>75%</th>\n",
       "      <td>200000.000000</td>\n",
       "      <td>250000.000000</td>\n",
       "    </tr>\n",
       "    <tr>\n",
       "      <th>max</th>\n",
       "      <td>600000.000000</td>\n",
       "      <td>600000.000000</td>\n",
       "    </tr>\n",
       "  </tbody>\n",
       "</table>\n",
       "</div>"
      ],
      "text/plain": [
       "             default    non_default\n",
       "count    6624.000000   23262.000000\n",
       "mean   129483.345411  176523.600722\n",
       "std    114092.543332  128833.990435\n",
       "min     10000.000000   10000.000000\n",
       "25%     50000.000000   60000.000000\n",
       "50%     90000.000000  150000.000000\n",
       "75%    200000.000000  250000.000000\n",
       "max    600000.000000  600000.000000"
      ]
     },
     "execution_count": 20,
     "metadata": {},
     "output_type": "execute_result"
    }
   ],
   "source": [
    "#What are the statistical differences between those that defaulted \n",
    "#and those that did not.\n",
    "b2=bad_credit['limit'].describe()\n",
    "g2=good_credit['limit'].describe()\n",
    "pd.concat([b2,g2],axis=1, keys=['default','non_default'])"
   ]
  },
  {
   "cell_type": "code",
   "execution_count": 21,
   "metadata": {},
   "outputs": [
    {
     "data": {
      "image/png": "[encoded data removed]",
      "text/plain": [
       "<Figure size 432x288 with 1 Axes>"
      ]
     },
     "metadata": {},
     "output_type": "display_data"
    }
   ],
   "source": [
    "#Defaulters have lower credit limits\n",
    "sns.set(font_scale=1)\n",
    "sns.boxplot(data=[bad_credit['limit'],good_credit['limit']])\n",
    "plt.show()"
   ]
  },
  {
   "cell_type": "code",
   "execution_count": 22,
   "metadata": {},
   "outputs": [
    {
     "data": {
      "image/png": "[encoded data removed]",
      "text/plain": [
       "<Figure size 432x288 with 1 Axes>"
      ]
     },
     "metadata": {},
     "output_type": "display_data"
    }
   ],
   "source": [
    "#Age does not seem to matter in default vs non-default\n",
    "sns.set(font_scale=1)\n",
    "sns.boxplot(data=[bad_credit['age'],good_credit['age']])\n",
    "plt.show()"
   ]
  },
  {
   "cell_type": "code",
   "execution_count": 23,
   "metadata": {},
   "outputs": [
    {
     "data": {
      "image/png": "[encoded data removed]",
      "text/plain": [
       "<Figure size 432x288 with 1 Axes>"
      ]
     },
     "metadata": {},
     "output_type": "display_data"
    }
   ],
   "source": [
    "#Seems to be even\n",
    "sns.set(font_scale=1)\n",
    "sns.boxplot(data=[bad_credit['BILL_AMT1'],good_credit['BILL_AMT1']])\n",
    "plt.show()"
   ]
  },
  {
   "cell_type": "markdown",
   "metadata": {},
   "source": [
    "<b> Look at Education only with those that default</b>"
   ]
  },
  {
   "cell_type": "code",
   "execution_count": 24,
   "metadata": {
    "scrolled": true
   },
   "outputs": [
    {
     "data": {
      "image/png": "[encoded data removed]",
      "text/plain": [
       "<Figure size 720x360 with 1 Axes>"
      ]
     },
     "metadata": {},
     "output_type": "display_data"
    }
   ],
   "source": [
    "sns.set(font_scale=2)\n",
    "#Graphical showing age groups of defaulters\n",
    "#20-39 are the largest group\n",
    "plt.figure(figsize=(10,5))\n",
    "sns.countplot('age_groups', data=bad_credit)\n",
    "plt.title('Age Groups Default')\n",
    "plt.show()"
   ]
  },
  {
   "cell_type": "code",
   "execution_count": 25,
   "metadata": {},
   "outputs": [
    {
     "data": {
      "image/png": "[encoded data removed]",
      "text/plain": [
       "<Figure size 720x360 with 1 Axes>"
      ]
     },
     "metadata": {},
     "output_type": "display_data"
    }
   ],
   "source": [
    "sns.set(font_scale=2)\n",
    "#Graphical showing age groups of defaulters\n",
    "#20-39 are the largest group\n",
    "plt.figure(figsize=(10,5))\n",
    "sns.countplot('age_groups', data=good_credit)\n",
    "plt.title('Age Groups NON-Default')\n",
    "plt.show()"
   ]
  },
  {
   "cell_type": "markdown",
   "metadata": {},
   "source": [
    "<p> The 30's seems to be the largest group.\n",
    "    \n",
    "    "
   ]
  },
  {
   "cell_type": "code",
   "execution_count": 26,
   "metadata": {},
   "outputs": [
    {
     "data": {
      "text/plain": [
       "20s    2195\n",
       "30s    2273\n",
       "40s    1478\n",
       "50+     678\n",
       "Name: age_groups, dtype: int64"
      ]
     },
     "execution_count": 26,
     "metadata": {},
     "output_type": "execute_result"
    }
   ],
   "source": [
    "#count of defaulters\n",
    "bad_credit['age_groups'].value_counts(sort=False)"
   ]
  },
  {
   "cell_type": "code",
   "execution_count": 27,
   "metadata": {},
   "outputs": [
    {
     "data": {
      "image/png": "[encoded data removed]",
      "text/plain": [
       "<Figure size 432x288 with 1 Axes>"
      ]
     },
     "metadata": {},
     "output_type": "display_data"
    }
   ],
   "source": [
    "#Definately skewed right\n",
    "sns.set(font_scale=1)\n",
    "sns.distplot(bad_credit['age'])\n",
    "plt.show()"
   ]
  },
  {
   "cell_type": "code",
   "execution_count": 28,
   "metadata": {},
   "outputs": [
    {
     "data": {
      "image/png": "[encoded data removed]",
      "text/plain": [
       "<Figure size 432x288 with 1 Axes>"
      ]
     },
     "metadata": {},
     "output_type": "display_data"
    }
   ],
   "source": [
    "#Definately skewed right\n",
    "sns.set(font_scale=1)\n",
    "sns.distplot(good_credit['age'])\n",
    "plt.show()"
   ]
  },
  {
   "cell_type": "markdown",
   "metadata": {},
   "source": [
    "* kde plots, "
   ]
  },
  {
   "cell_type": "code",
   "execution_count": 29,
   "metadata": {},
   "outputs": [
    {
     "data": {
      "image/png": "[encoded data removed]",
      "text/plain": [
       "<Figure size 936.85x216 with 1 Axes>"
      ]
     },
     "metadata": {},
     "output_type": "display_data"
    }
   ],
   "source": [
    "\n",
    "fig = sns.FacetGrid(credit, hue='sex', aspect=4)\n",
    "fig.map(sns.kdeplot, 'age', shade=True)\n",
    "oldest = credit['age'].max()\n",
    "fig.set(xlim=(0,oldest))\n",
    "fig.add_legend()\n",
    "fig.set(title='Distribution of Age Grouped by Gender all clients')\n",
    "plt.show()"
   ]
  },
  {
   "cell_type": "code",
   "execution_count": 30,
   "metadata": {},
   "outputs": [
    {
     "data": {
      "image/png": "[encoded data removed]",
      "text/plain": [
       "<Figure size 936.85x216 with 1 Axes>"
      ]
     },
     "metadata": {},
     "output_type": "display_data"
    }
   ],
   "source": [
    " fig = sns.FacetGrid(bad_credit, hue='sex', aspect=4)\n",
    "fig.map(sns.kdeplot, 'age', shade=True)\n",
    "oldest = bad_credit['age'].max()\n",
    "fig.set(xlim=(0,oldest))\n",
    "fig.add_legend()\n",
    "fig.set(title='Distribution of Age Grouped by Gender defaulters')\n",
    "plt.show()"
   ]
  },
  {
   "cell_type": "code",
   "execution_count": 31,
   "metadata": {},
   "outputs": [
    {
     "data": {
      "text/plain": [
       "<seaborn.axisgrid.FacetGrid at 0x23031881160>"
      ]
     },
     "execution_count": 31,
     "metadata": {},
     "output_type": "execute_result"
    },
    {
     "data": {
      "image/png": "[encoded data removed]",
      "text/plain": [
       "<Figure size 981.975x216 with 1 Axes>"
      ]
     },
     "metadata": {},
     "output_type": "display_data"
    }
   ],
   "source": [
    "fig = sns.FacetGrid(bad_credit, hue='education', aspect=4)\n",
    "fig.map(sns.kdeplot, 'age', shade=True)\n",
    "oldest = bad_credit['age'].max()\n",
    "fig.set(xlim=(0,oldest))\n",
    "fig.add_legend()\n",
    "fig.set(title='Distribution of Age Grouped by Education')"
   ]
  },
  {
   "cell_type": "code",
   "execution_count": 32,
   "metadata": {},
   "outputs": [
    {
     "data": {
      "image/png": "[encoded data removed]",
      "text/plain": [
       "<Figure size 913.05x216 with 1 Axes>"
      ]
     },
     "metadata": {},
     "output_type": "display_data"
    }
   ],
   "source": [
    "fig = sns.FacetGrid(bad_credit, hue='marriage', aspect=4)\n",
    "fig.map(sns.kdeplot, 'age', shade=True)\n",
    "oldest = bad_credit['age'].max()\n",
    "fig.set(xlim=(0,oldest))\n",
    "fig.add_legend()\n",
    "fig.set(title='Distribution of Age Grouped by Marital status')\n",
    "plt.show()"
   ]
  },
  {
   "cell_type": "code",
   "execution_count": 33,
   "metadata": {},
   "outputs": [
    {
     "data": {
      "image/png": "[encoded data removed]",
      "text/plain": [
       "<Figure size 432x288 with 1 Axes>"
      ]
     },
     "metadata": {},
     "output_type": "display_data"
    }
   ],
   "source": [
    "#Use seaborn to look at age of default/non-defaultsns.factorplot('age_groups', data=credit, hue='default', kind='count', aspect=1.75)\n",
    "sns.set(font_scale=1)\n",
    "sns.countplot('age_groups', data=credit, hue='default').set_title('Number of Defaulters by age', fontsize=30)\n",
    "plt.show()"
   ]
  },
  {
   "cell_type": "code",
   "execution_count": 34,
   "metadata": {},
   "outputs": [
    {
     "data": {
      "text/html": [
       "<div>\n",
       "<style scoped>\n",
       "    .dataframe tbody tr th:only-of-type {\n",
       "        vertical-align: middle;\n",
       "    }\n",
       "\n",
       "    .dataframe tbody tr th {\n",
       "        vertical-align: top;\n",
       "    }\n",
       "\n",
       "    .dataframe thead th {\n",
       "        text-align: right;\n",
       "    }\n",
       "</style>\n",
       "<table border=\"1\" class=\"dataframe\">\n",
       "  <thead>\n",
       "    <tr style=\"text-align: right;\">\n",
       "      <th>age_groups</th>\n",
       "      <th>20s</th>\n",
       "      <th>30s</th>\n",
       "      <th>40s</th>\n",
       "      <th>50+</th>\n",
       "      <th>All</th>\n",
       "    </tr>\n",
       "    <tr>\n",
       "      <th>sex</th>\n",
       "      <th></th>\n",
       "      <th></th>\n",
       "      <th></th>\n",
       "      <th></th>\n",
       "      <th></th>\n",
       "    </tr>\n",
       "  </thead>\n",
       "  <tbody>\n",
       "    <tr>\n",
       "      <th>female</th>\n",
       "      <td>130893.280632</td>\n",
       "      <td>200966.576332</td>\n",
       "      <td>180200.326619</td>\n",
       "      <td>158129.445235</td>\n",
       "      <td>168842.799357</td>\n",
       "    </tr>\n",
       "    <tr>\n",
       "      <th>male</th>\n",
       "      <td>109691.131498</td>\n",
       "      <td>187499.450187</td>\n",
       "      <td>177146.260870</td>\n",
       "      <td>171719.492868</td>\n",
       "      <td>161912.634513</td>\n",
       "    </tr>\n",
       "    <tr>\n",
       "      <th>All</th>\n",
       "      <td>123667.535175</td>\n",
       "      <td>195493.788542</td>\n",
       "      <td>178890.220703</td>\n",
       "      <td>164557.721139</td>\n",
       "      <td>166097.493141</td>\n",
       "    </tr>\n",
       "  </tbody>\n",
       "</table>\n",
       "</div>"
      ],
      "text/plain": [
       "age_groups            20s            30s            40s            50+  \\\n",
       "sex                                                                      \n",
       "female      130893.280632  200966.576332  180200.326619  158129.445235   \n",
       "male        109691.131498  187499.450187  177146.260870  171719.492868   \n",
       "All         123667.535175  195493.788542  178890.220703  164557.721139   \n",
       "\n",
       "age_groups            All  \n",
       "sex                        \n",
       "female      168842.799357  \n",
       "male        161912.634513  \n",
       "All         166097.493141  "
      ]
     },
     "execution_count": 34,
     "metadata": {},
     "output_type": "execute_result"
    }
   ],
   "source": [
    "credit.pivot_table('limit','sex','age_groups', aggfunc=np.mean, margins=True)"
   ]
  },
  {
   "cell_type": "code",
   "execution_count": 35,
   "metadata": {},
   "outputs": [
    {
     "data": {
      "text/html": [
       "<div>\n",
       "<style scoped>\n",
       "    .dataframe tbody tr th:only-of-type {\n",
       "        vertical-align: middle;\n",
       "    }\n",
       "\n",
       "    .dataframe tbody tr th {\n",
       "        vertical-align: top;\n",
       "    }\n",
       "\n",
       "    .dataframe thead th {\n",
       "        text-align: right;\n",
       "    }\n",
       "</style>\n",
       "<table border=\"1\" class=\"dataframe\">\n",
       "  <thead>\n",
       "    <tr style=\"text-align: right;\">\n",
       "      <th>age_groups</th>\n",
       "      <th>20s</th>\n",
       "      <th>30s</th>\n",
       "      <th>40s</th>\n",
       "      <th>50+</th>\n",
       "      <th>All</th>\n",
       "    </tr>\n",
       "    <tr>\n",
       "      <th>sex</th>\n",
       "      <th></th>\n",
       "      <th></th>\n",
       "      <th></th>\n",
       "      <th></th>\n",
       "      <th></th>\n",
       "    </tr>\n",
       "  </thead>\n",
       "  <tbody>\n",
       "    <tr>\n",
       "      <th>female</th>\n",
       "      <td>102686.567164</td>\n",
       "      <td>162804.578904</td>\n",
       "      <td>141314.791403</td>\n",
       "      <td>126716.417910</td>\n",
       "      <td>132539.936102</td>\n",
       "    </tr>\n",
       "    <tr>\n",
       "      <th>male</th>\n",
       "      <td>77576.142132</td>\n",
       "      <td>143190.476190</td>\n",
       "      <td>141423.114993</td>\n",
       "      <td>149387.755102</td>\n",
       "      <td>125480.362622</td>\n",
       "    </tr>\n",
       "    <tr>\n",
       "      <th>All</th>\n",
       "      <td>93671.981777</td>\n",
       "      <td>153743.950726</td>\n",
       "      <td>141365.142084</td>\n",
       "      <td>138185.840708</td>\n",
       "      <td>129483.345411</td>\n",
       "    </tr>\n",
       "  </tbody>\n",
       "</table>\n",
       "</div>"
      ],
      "text/plain": [
       "age_groups            20s            30s            40s            50+  \\\n",
       "sex                                                                      \n",
       "female      102686.567164  162804.578904  141314.791403  126716.417910   \n",
       "male         77576.142132  143190.476190  141423.114993  149387.755102   \n",
       "All          93671.981777  153743.950726  141365.142084  138185.840708   \n",
       "\n",
       "age_groups            All  \n",
       "sex                        \n",
       "female      132539.936102  \n",
       "male        125480.362622  \n",
       "All         129483.345411  "
      ]
     },
     "execution_count": 35,
     "metadata": {},
     "output_type": "execute_result"
    }
   ],
   "source": [
    "##interesting.  Females tend to have higher credit limits in their 20's and 30's.\n",
    "bad_credit.pivot_table('limit','sex','age_groups', aggfunc=np.mean, margins=True)"
   ]
  },
  {
   "cell_type": "code",
   "execution_count": 36,
   "metadata": {},
   "outputs": [
    {
     "data": {
      "text/html": [
       "<div>\n",
       "<style scoped>\n",
       "    .dataframe tbody tr th:only-of-type {\n",
       "        vertical-align: middle;\n",
       "    }\n",
       "\n",
       "    .dataframe tbody tr th {\n",
       "        vertical-align: top;\n",
       "    }\n",
       "\n",
       "    .dataframe thead th {\n",
       "        text-align: right;\n",
       "    }\n",
       "</style>\n",
       "<table border=\"1\" class=\"dataframe\">\n",
       "  <thead>\n",
       "    <tr style=\"text-align: right;\">\n",
       "      <th>age_groups</th>\n",
       "      <th>20s</th>\n",
       "      <th>30s</th>\n",
       "      <th>40s</th>\n",
       "      <th>50+</th>\n",
       "      <th>All</th>\n",
       "    </tr>\n",
       "    <tr>\n",
       "      <th>sex</th>\n",
       "      <th></th>\n",
       "      <th></th>\n",
       "      <th></th>\n",
       "      <th></th>\n",
       "      <th></th>\n",
       "    </tr>\n",
       "  </thead>\n",
       "  <tbody>\n",
       "    <tr>\n",
       "      <th>female</th>\n",
       "      <td>138962.993087</td>\n",
       "      <td>209579.258166</td>\n",
       "      <td>190869.233437</td>\n",
       "      <td>167955.182073</td>\n",
       "      <td>178384.017913</td>\n",
       "    </tr>\n",
       "    <tr>\n",
       "      <th>male</th>\n",
       "      <td>119887.187752</td>\n",
       "      <td>200803.545896</td>\n",
       "      <td>188985.045827</td>\n",
       "      <td>180054.406964</td>\n",
       "      <td>173559.915283</td>\n",
       "    </tr>\n",
       "    <tr>\n",
       "      <th>All</th>\n",
       "      <td>132564.864865</td>\n",
       "      <td>206137.281292</td>\n",
       "      <td>190081.113801</td>\n",
       "      <td>173542.713568</td>\n",
       "      <td>176523.600722</td>\n",
       "    </tr>\n",
       "  </tbody>\n",
       "</table>\n",
       "</div>"
      ],
      "text/plain": [
       "age_groups            20s            30s            40s            50+  \\\n",
       "sex                                                                      \n",
       "female      138962.993087  209579.258166  190869.233437  167955.182073   \n",
       "male        119887.187752  200803.545896  188985.045827  180054.406964   \n",
       "All         132564.864865  206137.281292  190081.113801  173542.713568   \n",
       "\n",
       "age_groups            All  \n",
       "sex                        \n",
       "female      178384.017913  \n",
       "male        173559.915283  \n",
       "All         176523.600722  "
      ]
     },
     "execution_count": 36,
     "metadata": {},
     "output_type": "execute_result"
    }
   ],
   "source": [
    "good_credit.pivot_table('limit','sex','age_groups', aggfunc=np.mean, margins=True)"
   ]
  },
  {
   "cell_type": "code",
   "execution_count": 37,
   "metadata": {},
   "outputs": [
    {
     "data": {
      "text/html": [
       "<div>\n",
       "<style scoped>\n",
       "    .dataframe tbody tr th:only-of-type {\n",
       "        vertical-align: middle;\n",
       "    }\n",
       "\n",
       "    .dataframe tbody tr th {\n",
       "        vertical-align: top;\n",
       "    }\n",
       "\n",
       "    .dataframe thead th {\n",
       "        text-align: right;\n",
       "    }\n",
       "</style>\n",
       "<table border=\"1\" class=\"dataframe\">\n",
       "  <thead>\n",
       "    <tr style=\"text-align: right;\">\n",
       "      <th>age_groups</th>\n",
       "      <th>20s</th>\n",
       "      <th>30s</th>\n",
       "      <th>40s</th>\n",
       "      <th>50+</th>\n",
       "      <th>All</th>\n",
       "    </tr>\n",
       "    <tr>\n",
       "      <th>education</th>\n",
       "      <th></th>\n",
       "      <th></th>\n",
       "      <th></th>\n",
       "      <th></th>\n",
       "      <th></th>\n",
       "    </tr>\n",
       "  </thead>\n",
       "  <tbody>\n",
       "    <tr>\n",
       "      <th>graduate school</th>\n",
       "      <td>112926.829268</td>\n",
       "      <td>199248.484848</td>\n",
       "      <td>226768.802228</td>\n",
       "      <td>237364.864865</td>\n",
       "      <td>177244.948250</td>\n",
       "    </tr>\n",
       "    <tr>\n",
       "      <th>high school</th>\n",
       "      <td>76053.639847</td>\n",
       "      <td>112065.573770</td>\n",
       "      <td>102929.552239</td>\n",
       "      <td>96096.654275</td>\n",
       "      <td>98025.610348</td>\n",
       "    </tr>\n",
       "    <tr>\n",
       "      <th>other</th>\n",
       "      <td>110000.000000</td>\n",
       "      <td>225000.000000</td>\n",
       "      <td>125714.285714</td>\n",
       "      <td>57500.000000</td>\n",
       "      <td>131212.121212</td>\n",
       "    </tr>\n",
       "    <tr>\n",
       "      <th>university</th>\n",
       "      <td>86368.078176</td>\n",
       "      <td>131530.343008</td>\n",
       "      <td>120042.674253</td>\n",
       "      <td>126381.322957</td>\n",
       "      <td>112024.060150</td>\n",
       "    </tr>\n",
       "    <tr>\n",
       "      <th>All</th>\n",
       "      <td>93671.981777</td>\n",
       "      <td>153743.950726</td>\n",
       "      <td>141365.142084</td>\n",
       "      <td>138185.840708</td>\n",
       "      <td>129483.345411</td>\n",
       "    </tr>\n",
       "  </tbody>\n",
       "</table>\n",
       "</div>"
      ],
      "text/plain": [
       "age_groups                 20s            30s            40s            50+  \\\n",
       "education                                                                     \n",
       "graduate school  112926.829268  199248.484848  226768.802228  237364.864865   \n",
       "high school       76053.639847  112065.573770  102929.552239   96096.654275   \n",
       "other            110000.000000  225000.000000  125714.285714   57500.000000   \n",
       "university        86368.078176  131530.343008  120042.674253  126381.322957   \n",
       "All               93671.981777  153743.950726  141365.142084  138185.840708   \n",
       "\n",
       "age_groups                 All  \n",
       "education                       \n",
       "graduate school  177244.948250  \n",
       "high school       98025.610348  \n",
       "other            131212.121212  \n",
       "university       112024.060150  \n",
       "All              129483.345411  "
      ]
     },
     "execution_count": 37,
     "metadata": {},
     "output_type": "execute_result"
    }
   ],
   "source": [
    "bad_credit.pivot_table('limit','education','age_groups', aggfunc=np.mean, margins=True)"
   ]
  },
  {
   "cell_type": "code",
   "execution_count": 38,
   "metadata": {},
   "outputs": [
    {
     "data": {
      "text/html": [
       "<div>\n",
       "<style scoped>\n",
       "    .dataframe tbody tr th:only-of-type {\n",
       "        vertical-align: middle;\n",
       "    }\n",
       "\n",
       "    .dataframe tbody tr th {\n",
       "        vertical-align: top;\n",
       "    }\n",
       "\n",
       "    .dataframe thead th {\n",
       "        text-align: right;\n",
       "    }\n",
       "</style>\n",
       "<table border=\"1\" class=\"dataframe\">\n",
       "  <thead>\n",
       "    <tr style=\"text-align: right;\">\n",
       "      <th>age_groups</th>\n",
       "      <th>20s</th>\n",
       "      <th>30s</th>\n",
       "      <th>40s</th>\n",
       "      <th>50+</th>\n",
       "      <th>All</th>\n",
       "    </tr>\n",
       "    <tr>\n",
       "      <th>marriage</th>\n",
       "      <th></th>\n",
       "      <th></th>\n",
       "      <th></th>\n",
       "      <th></th>\n",
       "      <th></th>\n",
       "    </tr>\n",
       "  </thead>\n",
       "  <tbody>\n",
       "    <tr>\n",
       "      <th>0</th>\n",
       "      <td>125000.000000</td>\n",
       "      <td>NaN</td>\n",
       "      <td>120000.000000</td>\n",
       "      <td>NaN</td>\n",
       "      <td>122000.000000</td>\n",
       "    </tr>\n",
       "    <tr>\n",
       "      <th>1</th>\n",
       "      <td>97080.103359</td>\n",
       "      <td>149644.039735</td>\n",
       "      <td>147317.757009</td>\n",
       "      <td>148063.909774</td>\n",
       "      <td>142239.599625</td>\n",
       "    </tr>\n",
       "    <tr>\n",
       "      <th>2</th>\n",
       "      <td>92951.002227</td>\n",
       "      <td>159324.452902</td>\n",
       "      <td>131637.951482</td>\n",
       "      <td>108083.333333</td>\n",
       "      <td>118693.133613</td>\n",
       "    </tr>\n",
       "    <tr>\n",
       "      <th>3</th>\n",
       "      <td>85000.000000</td>\n",
       "      <td>88571.428571</td>\n",
       "      <td>62058.823529</td>\n",
       "      <td>75000.000000</td>\n",
       "      <td>73214.285714</td>\n",
       "    </tr>\n",
       "    <tr>\n",
       "      <th>All</th>\n",
       "      <td>93671.981777</td>\n",
       "      <td>153743.950726</td>\n",
       "      <td>141365.142084</td>\n",
       "      <td>138185.840708</td>\n",
       "      <td>129483.345411</td>\n",
       "    </tr>\n",
       "  </tbody>\n",
       "</table>\n",
       "</div>"
      ],
      "text/plain": [
       "age_groups            20s            30s            40s            50+  \\\n",
       "marriage                                                                 \n",
       "0           125000.000000            NaN  120000.000000            NaN   \n",
       "1            97080.103359  149644.039735  147317.757009  148063.909774   \n",
       "2            92951.002227  159324.452902  131637.951482  108083.333333   \n",
       "3            85000.000000   88571.428571   62058.823529   75000.000000   \n",
       "All          93671.981777  153743.950726  141365.142084  138185.840708   \n",
       "\n",
       "age_groups            All  \n",
       "marriage                   \n",
       "0           122000.000000  \n",
       "1           142239.599625  \n",
       "2           118693.133613  \n",
       "3            73214.285714  \n",
       "All         129483.345411  "
      ]
     },
     "execution_count": 38,
     "metadata": {},
     "output_type": "execute_result"
    }
   ],
   "source": [
    "bad_credit.pivot_table('limit','marriage','age_groups', aggfunc=np.mean, margins=True)"
   ]
  },
  {
   "cell_type": "code",
   "execution_count": 39,
   "metadata": {},
   "outputs": [
    {
     "data": {
      "image/png": "[encoded data removed]",
      "text/plain": [
       "<Figure size 360x360 with 1 Axes>"
      ]
     },
     "metadata": {},
     "output_type": "display_data"
    }
   ],
   "source": [
    "#Graphical showing education of defaulters\n",
    "sns.set(font_scale=1)\n",
    "plt.style.use('ggplot')\n",
    "plt.figure(figsize=(5,5))\n",
    "sns.countplot('education', data=bad_credit).set_title('Number of Defaulters by Education Level', fontsize=15)\n",
    "\n",
    "plt.show()"
   ]
  },
  {
   "cell_type": "code",
   "execution_count": 40,
   "metadata": {
    "scrolled": true
   },
   "outputs": [
    {
     "data": {
      "text/plain": [
       "education        age_groups\n",
       "graduate school  20s            697\n",
       "                 30s            825\n",
       "                 40s            359\n",
       "                 50+            148\n",
       "high school      20s            261\n",
       "                 30s            305\n",
       "                 40s            402\n",
       "                 50+            269\n",
       "other            20s              9\n",
       "                 30s              6\n",
       "                 40s             14\n",
       "                 50+              4\n",
       "university       20s           1228\n",
       "                 30s           1137\n",
       "                 40s            703\n",
       "                 50+            257\n",
       "dtype: int64"
      ]
     },
     "execution_count": 40,
     "metadata": {},
     "output_type": "execute_result"
    }
   ],
   "source": [
    "#Grouped by education and then age groups.  University has a lot\n",
    "bad_credit.groupby(['education', 'age_groups']).size()"
   ]
  },
  {
   "cell_type": "code",
   "execution_count": 41,
   "metadata": {},
   "outputs": [
    {
     "data": {
      "text/plain": [
       "education        age_groups\n",
       "graduate school  20s           34.351897\n",
       "                 30s           40.660424\n",
       "                 40s           17.693445\n",
       "                 50+            7.294234\n",
       "high school      20s           21.099434\n",
       "                 30s           24.656427\n",
       "                 40s           32.497979\n",
       "                 50+           21.746160\n",
       "other            20s           27.272727\n",
       "                 30s           18.181818\n",
       "                 40s           42.424242\n",
       "                 50+           12.121212\n",
       "university       20s           36.932331\n",
       "                 30s           34.195489\n",
       "                 40s           21.142857\n",
       "                 50+            7.729323\n",
       "Name: count, dtype: float64"
      ]
     },
     "execution_count": 41,
     "metadata": {},
     "output_type": "execute_result"
    }
   ],
   "source": [
    "# Percent of each age group that defaults with that education\n",
    "c = bad_credit.groupby(['education', 'age_groups'])['age_groups'].size().rename(\"count\")\n",
    "c / c.groupby(level=0).sum()*100\n"
   ]
  },
  {
   "cell_type": "markdown",
   "metadata": {},
   "source": [
    "* The top 3 groups by amount of money owed is \n",
    "    *1) University 30's 67,581,310\n",
    "    *2) University 20's 53,591,249\n",
    "    *3) Graduate   30's 38,882,706\n",
    "    "
   ]
  },
  {
   "cell_type": "code",
   "execution_count": 42,
   "metadata": {},
   "outputs": [
    {
     "data": {
      "text/plain": [
       "education        age_groups\n",
       "graduate school  20s           25972994\n",
       "                 30s           38882706\n",
       "                 40s           21650440\n",
       "                 50+            8863839\n",
       "high school      20s            8982629\n",
       "                 30s           14966306\n",
       "                 40s           17484977\n",
       "                 50+           10733643\n",
       "other            20s             547307\n",
       "                 30s            1086713\n",
       "                 40s            1246522\n",
       "                 50+             223430\n",
       "university       20s           53591249\n",
       "                 30s           67581310\n",
       "                 40s           35908308\n",
       "                 50+           13170762\n",
       "Name: BILL_AMT1, dtype: int64"
      ]
     },
     "execution_count": 42,
     "metadata": {},
     "output_type": "execute_result"
    }
   ],
   "source": [
    "#The bill amount that is getting default.\n",
    "bad_credit.groupby(['education', 'age_groups'])['BILL_AMT1'].agg('sum')"
   ]
  },
  {
   "cell_type": "code",
   "execution_count": 43,
   "metadata": {},
   "outputs": [
    {
     "data": {
      "image/png": "[encoded data removed]",
      "text/plain": [
       "<Figure size 360x504 with 1 Axes>"
      ]
     },
     "metadata": {},
     "output_type": "display_data"
    }
   ],
   "source": [
    "bad_credit.groupby(['education', 'age_groups'])['BILL_AMT1'].agg('sum').unstack().plot.bar(figsize=(5, 7))\n",
    "plt.title('Total Amount of Bills Defaulted by Age Group',fontsize=20)\n",
    "plt.ylabel('1=10,000,000', fontsize=25)\n",
    "plt.show()"
   ]
  },
  {
   "cell_type": "code",
   "execution_count": 44,
   "metadata": {},
   "outputs": [
    {
     "data": {
      "image/png": "[encoded data removed]",
      "text/plain": [
       "<Figure size 504x720 with 1 Axes>"
      ]
     },
     "metadata": {},
     "output_type": "display_data"
    }
   ],
   "source": [
    "bad_credit.groupby(['education', 'age_groups'])['limit'].agg('mean').unstack().plot.bar(figsize=(7,10))\n",
    "plt.title(\"Average Credit Limit per Age Group per Education\", fontsize=20)\n",
    "plt.show()"
   ]
  },
  {
   "cell_type": "code",
   "execution_count": 45,
   "metadata": {
    "scrolled": true
   },
   "outputs": [
    {
     "data": {
      "image/png": "[encoded data removed]",
      "text/plain": [
       "<Figure size 576x288 with 1 Axes>"
      ]
     },
     "metadata": {},
     "output_type": "display_data"
    }
   ],
   "source": [
    "sns.set(font_scale=1)\n",
    "plt.style.use('ggplot')\n",
    "\n",
    "bad_credit.groupby(['age_groups', 'education']).count()['BILL_AMT1'].unstack().plot.bar(figsize=(8,4))\n",
    "plt.title(\"Age groups counts defaulted in each education area\", fontsize=15)\n",
    "plt.show()"
   ]
  },
  {
   "cell_type": "code",
   "execution_count": 46,
   "metadata": {},
   "outputs": [
    {
     "data": {
      "image/png": "[encoded data removed]",
      "text/plain": [
       "<Figure size 1080x504 with 1 Axes>"
      ]
     },
     "metadata": {},
     "output_type": "display_data"
    }
   ],
   "source": [
    "bad_credit.groupby(by=['education', 'limit_groups']).size().unstack().plot.bar(figsize=(15, 7))\n",
    "plt.title(\"Credit Limts by Educations Groups\", fontsize=30)\n",
    "plt.show()"
   ]
  },
  {
   "cell_type": "code",
   "execution_count": 47,
   "metadata": {},
   "outputs": [
    {
     "data": {
      "image/png": "[encoded data removed]",
      "text/plain": [
       "<Figure size 1080x504 with 1 Axes>"
      ]
     },
     "metadata": {},
     "output_type": "display_data"
    }
   ],
   "source": [
    "bad_credit.groupby(by=[ 'limit_groups','education']).size().unstack().plot.bar(figsize=(15, 7))\n",
    "plt.title(\"Credit Limit Ranges by Education\", fontsize=30)\n",
    "plt.show()"
   ]
  },
  {
   "cell_type": "code",
   "execution_count": 48,
   "metadata": {},
   "outputs": [],
   "source": [
    "grouped2 = bad_credit.groupby(by=['age_groups'])['BILL_AMT1'].agg('sum')"
   ]
  },
  {
   "cell_type": "code",
   "execution_count": 49,
   "metadata": {},
   "outputs": [],
   "source": [
    "grouped1 = bad_credit[\"age_groups\"].value_counts()"
   ]
  },
  {
   "cell_type": "code",
   "execution_count": 50,
   "metadata": {},
   "outputs": [],
   "source": [
    "grouped3 = bad_credit.groupby(by=['age_groups'])['limit'].agg('mean')"
   ]
  },
  {
   "cell_type": "code",
   "execution_count": 51,
   "metadata": {},
   "outputs": [
    {
     "name": "stdout",
     "output_type": "stream",
     "text": [
      "     BILL_AMT1  age_groups          limit\n",
      "20s   89094179        2195   93671.981777\n",
      "30s  122517035        2273  153743.950726\n",
      "40s   76290247        1478  141365.142084\n",
      "50+   32991674         678  138185.840708\n"
     ]
    }
   ],
   "source": [
    "together = pd.concat([grouped2,grouped1, grouped3],axis=1)\n",
    "print(together)"
   ]
  },
  {
   "cell_type": "code",
   "execution_count": 52,
   "metadata": {},
   "outputs": [
    {
     "data": {
      "text/html": [
       "<div>\n",
       "<style scoped>\n",
       "    .dataframe tbody tr th:only-of-type {\n",
       "        vertical-align: middle;\n",
       "    }\n",
       "\n",
       "    .dataframe tbody tr th {\n",
       "        vertical-align: top;\n",
       "    }\n",
       "\n",
       "    .dataframe thead th {\n",
       "        text-align: right;\n",
       "    }\n",
       "</style>\n",
       "<table border=\"1\" class=\"dataframe\">\n",
       "  <thead>\n",
       "    <tr style=\"text-align: right;\">\n",
       "      <th></th>\n",
       "      <th>BILL_AMT1</th>\n",
       "      <th>age_groups</th>\n",
       "      <th>limit</th>\n",
       "      <th>average</th>\n",
       "      <th>amount above average limit</th>\n",
       "    </tr>\n",
       "  </thead>\n",
       "  <tbody>\n",
       "    <tr>\n",
       "      <th>20s</th>\n",
       "      <td>89094179</td>\n",
       "      <td>2195</td>\n",
       "      <td>93671.981777</td>\n",
       "      <td>40589.603189</td>\n",
       "      <td>53082.378588</td>\n",
       "    </tr>\n",
       "    <tr>\n",
       "      <th>30s</th>\n",
       "      <td>122517035</td>\n",
       "      <td>2273</td>\n",
       "      <td>153743.950726</td>\n",
       "      <td>53901.027277</td>\n",
       "      <td>99842.923449</td>\n",
       "    </tr>\n",
       "    <tr>\n",
       "      <th>40s</th>\n",
       "      <td>76290247</td>\n",
       "      <td>1478</td>\n",
       "      <td>141365.142084</td>\n",
       "      <td>51617.217185</td>\n",
       "      <td>89747.924899</td>\n",
       "    </tr>\n",
       "    <tr>\n",
       "      <th>50+</th>\n",
       "      <td>32991674</td>\n",
       "      <td>678</td>\n",
       "      <td>138185.840708</td>\n",
       "      <td>48660.286136</td>\n",
       "      <td>89525.554572</td>\n",
       "    </tr>\n",
       "  </tbody>\n",
       "</table>\n",
       "</div>"
      ],
      "text/plain": [
       "     BILL_AMT1  age_groups          limit       average  \\\n",
       "20s   89094179        2195   93671.981777  40589.603189   \n",
       "30s  122517035        2273  153743.950726  53901.027277   \n",
       "40s   76290247        1478  141365.142084  51617.217185   \n",
       "50+   32991674         678  138185.840708  48660.286136   \n",
       "\n",
       "     amount above average limit  \n",
       "20s                53082.378588  \n",
       "30s                99842.923449  \n",
       "40s                89747.924899  \n",
       "50+                89525.554572  "
      ]
     },
     "execution_count": 52,
     "metadata": {},
     "output_type": "execute_result"
    }
   ],
   "source": [
    "together['average']=together['BILL_AMT1']/together['age_groups']\n",
    "together['amount above average limit'] = together['limit']-together['average']\n",
    "together"
   ]
  },
  {
   "cell_type": "code",
   "execution_count": 53,
   "metadata": {},
   "outputs": [
    {
     "data": {
      "image/png": "[encoded data removed]",
      "text/plain": [
       "<Figure size 432x288 with 1 Axes>"
      ]
     },
     "metadata": {},
     "output_type": "display_data"
    }
   ],
   "source": [
    "sns.set(font_scale=1)\n",
    "sns.boxplot(bad_credit['limit'], bad_credit['age_groups'])\n",
    "plt.title(\"credit limit by age groups\", fontsize=25)\n",
    "plt.show()"
   ]
  },
  {
   "cell_type": "code",
   "execution_count": 54,
   "metadata": {},
   "outputs": [
    {
     "data": {
      "text/plain": [
       "age_groups  limit_groups\n",
       "20s         minimum          93\n",
       "            (10-25]         302\n",
       "            (25-50]         659\n",
       "            (50-100]        476\n",
       "            (100-200]       435\n",
       "            (200-400]       214\n",
       "            (400-600]        16\n",
       "30s         minimum          35\n",
       "            (10-25]         169\n",
       "            (25-50]         405\n",
       "            (50-100]        402\n",
       "            (100-200]       619\n",
       "            (200-400]       550\n",
       "            (400-600]        93\n",
       "40s         minimum          50\n",
       "            (10-25]         156\n",
       "            (25-50]         305\n",
       "            (50-100]        258\n",
       "            (100-200]       334\n",
       "            (200-400]       310\n",
       "            (400-600]        65\n",
       "50+         minimum          19\n",
       "            (10-25]          70\n",
       "            (25-50]         176\n",
       "            (50-100]        108\n",
       "            (100-200]       146\n",
       "            (200-400]       123\n",
       "            (400-600]        36\n",
       "dtype: int64"
      ]
     },
     "execution_count": 54,
     "metadata": {},
     "output_type": "execute_result"
    }
   ],
   "source": [
    "bad_credit.groupby(by=['age_groups','limit_groups']).size()"
   ]
  },
  {
   "cell_type": "code",
   "execution_count": 55,
   "metadata": {},
   "outputs": [
    {
     "data": {
      "text/plain": [
       "education        PAY_0\n",
       "graduate school  0        1057\n",
       "                 1         415\n",
       "                 2         487\n",
       "                 3          56\n",
       "                 4           8\n",
       "                 5           1\n",
       "                 7           1\n",
       "                 8           4\n",
       "high school      0         557\n",
       "                 1         237\n",
       "                 2         382\n",
       "                 3          43\n",
       "                 4          13\n",
       "                 5           3\n",
       "                 7           1\n",
       "                 8           1\n",
       "other            0          26\n",
       "                 2           7\n",
       "university       0        1562\n",
       "                 1         596\n",
       "                 2         965\n",
       "                 3         145\n",
       "                 4          31\n",
       "                 5           9\n",
       "                 6           6\n",
       "                 7           5\n",
       "                 8           6\n",
       "dtype: int64"
      ]
     },
     "execution_count": 55,
     "metadata": {},
     "output_type": "execute_result"
    }
   ],
   "source": [
    "#I don't know if this tells me anything?  \n",
    "bad_credit.groupby(by=['education','PAY_0']).size()"
   ]
  },
  {
   "cell_type": "markdown",
   "metadata": {},
   "source": [
    "* Things I've learned\n",
    "* University has the highest number of defaulters. They rank 3 in the top 4\n",
    "* places in Amount defaulted on and number of defaulters.  \n",
    "* Typically university grads even have lower credit limits.  "
   ]
  },
  {
   "cell_type": "markdown",
   "metadata": {},
   "source": [
    "# Marital Status?\n"
   ]
  },
  {
   "cell_type": "code",
   "execution_count": 56,
   "metadata": {},
   "outputs": [
    {
     "data": {
      "text/plain": [
       "marriage\n",
       "0       5\n",
       "1    3197\n",
       "2    3338\n",
       "3      84\n",
       "dtype: int64"
      ]
     },
     "execution_count": 56,
     "metadata": {},
     "output_type": "execute_result"
    }
   ],
   "source": [
    "bad_credit.groupby(by=['marriage']).size()\n",
    "##Do I keep the others in here?  There are only 5."
   ]
  },
  {
   "cell_type": "code",
   "execution_count": 57,
   "metadata": {},
   "outputs": [
    {
     "data": {
      "text/plain": [
       "age_groups  marriage\n",
       "20s         0              2\n",
       "            1            387\n",
       "            2           1796\n",
       "            3             10\n",
       "30s         0              0\n",
       "            1           1208\n",
       "            2           1051\n",
       "            3             14\n",
       "40s         0              3\n",
       "            1           1070\n",
       "            2            371\n",
       "            3             34\n",
       "50+         0              0\n",
       "            1            532\n",
       "            2            120\n",
       "            3             26\n",
       "dtype: int64"
      ]
     },
     "execution_count": 57,
     "metadata": {},
     "output_type": "execute_result"
    }
   ],
   "source": [
    "bad_credit.groupby(by=['age_groups','marriage']).size()"
   ]
  },
  {
   "cell_type": "code",
   "execution_count": 58,
   "metadata": {},
   "outputs": [],
   "source": [
    "#I decided to drop those 5\n",
    "bad_credit = bad_credit[bad_credit.marriage != 0]"
   ]
  },
  {
   "cell_type": "code",
   "execution_count": 59,
   "metadata": {},
   "outputs": [
    {
     "data": {
      "text/plain": [
       "age_groups  marriage\n",
       "20s         1            387\n",
       "            2           1796\n",
       "            3             10\n",
       "30s         1           1208\n",
       "            2           1051\n",
       "            3             14\n",
       "40s         1           1070\n",
       "            2            371\n",
       "            3             34\n",
       "50+         1            532\n",
       "            2            120\n",
       "            3             26\n",
       "dtype: int64"
      ]
     },
     "execution_count": 59,
     "metadata": {},
     "output_type": "execute_result"
    }
   ],
   "source": [
    "#Here is what it looks like with those 5 removed.\n",
    "bad_credit.groupby(by=['age_groups','marriage']).size()"
   ]
  },
  {
   "cell_type": "code",
   "execution_count": 83,
   "metadata": {},
   "outputs": [
    {
     "data": {
      "image/png": "[encoded data removed]",
      "text/plain": [
       "<Figure size 360x360 with 1 Axes>"
      ]
     },
     "metadata": {},
     "output_type": "display_data"
    }
   ],
   "source": [
    "sns.set(font_scale=2)\n",
    "bad_credit.groupby(by=['age_groups','marriage']).size().unstack(fill_value=0).plot.bar(figsize=(5,5))\n",
    "plt.title('married or single?  Who defaults the most?', fontsize=20)\n",
    "plt.show()"
   ]
  },
  {
   "cell_type": "markdown",
   "metadata": {},
   "source": [
    "* Let's look deeper into these 20-29?"
   ]
  },
  {
   "cell_type": "code",
   "execution_count": 61,
   "metadata": {},
   "outputs": [
    {
     "data": {
      "text/html": [
       "<div>\n",
       "<style scoped>\n",
       "    .dataframe tbody tr th:only-of-type {\n",
       "        vertical-align: middle;\n",
       "    }\n",
       "\n",
       "    .dataframe tbody tr th {\n",
       "        vertical-align: top;\n",
       "    }\n",
       "\n",
       "    .dataframe thead th {\n",
       "        text-align: right;\n",
       "    }\n",
       "</style>\n",
       "<table border=\"1\" class=\"dataframe\">\n",
       "  <thead>\n",
       "    <tr style=\"text-align: right;\">\n",
       "      <th></th>\n",
       "      <th>PAY_0</th>\n",
       "      <th>PAY_2</th>\n",
       "      <th>PAY_3</th>\n",
       "      <th>PAY_4</th>\n",
       "      <th>PAY_5</th>\n",
       "      <th>PAY_6</th>\n",
       "      <th>BILL_AMT1</th>\n",
       "      <th>BILL_AMT2</th>\n",
       "      <th>BILL_AMT3</th>\n",
       "      <th>BILL_AMT4</th>\n",
       "      <th>...</th>\n",
       "      <th>BILL_AMT6</th>\n",
       "      <th>PAY_AMT1</th>\n",
       "      <th>PAY_AMT2</th>\n",
       "      <th>PAY_AMT3</th>\n",
       "      <th>PAY_AMT4</th>\n",
       "      <th>PAY_AMT5</th>\n",
       "      <th>PAY_AMT6</th>\n",
       "      <th>limit</th>\n",
       "      <th>marriage</th>\n",
       "      <th>age</th>\n",
       "    </tr>\n",
       "  </thead>\n",
       "  <tbody>\n",
       "    <tr>\n",
       "      <th>count</th>\n",
       "      <td>2273.000000</td>\n",
       "      <td>2273.000000</td>\n",
       "      <td>2273.000000</td>\n",
       "      <td>2273.000000</td>\n",
       "      <td>2273.000000</td>\n",
       "      <td>2273.000000</td>\n",
       "      <td>2273.000000</td>\n",
       "      <td>2273.000000</td>\n",
       "      <td>2273.000000</td>\n",
       "      <td>2273.000000</td>\n",
       "      <td>...</td>\n",
       "      <td>2273.000000</td>\n",
       "      <td>2273.000000</td>\n",
       "      <td>2273.000000</td>\n",
       "      <td>2273.000000</td>\n",
       "      <td>2273.000000</td>\n",
       "      <td>2273.000000</td>\n",
       "      <td>2273.000000</td>\n",
       "      <td>2273.000000</td>\n",
       "      <td>2273.000000</td>\n",
       "      <td>2273.000000</td>\n",
       "    </tr>\n",
       "    <tr>\n",
       "      <th>mean</th>\n",
       "      <td>0.866696</td>\n",
       "      <td>0.751870</td>\n",
       "      <td>0.667840</td>\n",
       "      <td>0.603608</td>\n",
       "      <td>0.531016</td>\n",
       "      <td>0.521777</td>\n",
       "      <td>53901.027277</td>\n",
       "      <td>52389.885614</td>\n",
       "      <td>49655.516938</td>\n",
       "      <td>46716.628245</td>\n",
       "      <td>...</td>\n",
       "      <td>42446.420150</td>\n",
       "      <td>3779.454905</td>\n",
       "      <td>3890.732072</td>\n",
       "      <td>4289.986802</td>\n",
       "      <td>3708.461505</td>\n",
       "      <td>3701.105587</td>\n",
       "      <td>4268.633524</td>\n",
       "      <td>153743.950726</td>\n",
       "      <td>1.474703</td>\n",
       "      <td>34.326881</td>\n",
       "    </tr>\n",
       "    <tr>\n",
       "      <th>std</th>\n",
       "      <td>1.050362</td>\n",
       "      <td>1.086095</td>\n",
       "      <td>1.068149</td>\n",
       "      <td>1.099746</td>\n",
       "      <td>1.063574</td>\n",
       "      <td>1.049642</td>\n",
       "      <td>81002.135188</td>\n",
       "      <td>78407.795772</td>\n",
       "      <td>74475.335709</td>\n",
       "      <td>69653.068293</td>\n",
       "      <td>...</td>\n",
       "      <td>63588.464763</td>\n",
       "      <td>10108.696451</td>\n",
       "      <td>13007.312752</td>\n",
       "      <td>18917.120027</td>\n",
       "      <td>13896.913920</td>\n",
       "      <td>13691.244173</td>\n",
       "      <td>16872.359774</td>\n",
       "      <td>118488.572463</td>\n",
       "      <td>0.511658</td>\n",
       "      <td>2.866309</td>\n",
       "    </tr>\n",
       "    <tr>\n",
       "      <th>min</th>\n",
       "      <td>0.000000</td>\n",
       "      <td>0.000000</td>\n",
       "      <td>0.000000</td>\n",
       "      <td>0.000000</td>\n",
       "      <td>0.000000</td>\n",
       "      <td>0.000000</td>\n",
       "      <td>-6029.000000</td>\n",
       "      <td>-17710.000000</td>\n",
       "      <td>-61506.000000</td>\n",
       "      <td>-50616.000000</td>\n",
       "      <td>...</td>\n",
       "      <td>-339603.000000</td>\n",
       "      <td>0.000000</td>\n",
       "      <td>0.000000</td>\n",
       "      <td>0.000000</td>\n",
       "      <td>0.000000</td>\n",
       "      <td>0.000000</td>\n",
       "      <td>0.000000</td>\n",
       "      <td>10000.000000</td>\n",
       "      <td>1.000000</td>\n",
       "      <td>30.000000</td>\n",
       "    </tr>\n",
       "    <tr>\n",
       "      <th>25%</th>\n",
       "      <td>0.000000</td>\n",
       "      <td>0.000000</td>\n",
       "      <td>0.000000</td>\n",
       "      <td>0.000000</td>\n",
       "      <td>0.000000</td>\n",
       "      <td>0.000000</td>\n",
       "      <td>2400.000000</td>\n",
       "      <td>1863.000000</td>\n",
       "      <td>1786.000000</td>\n",
       "      <td>1261.000000</td>\n",
       "      <td>...</td>\n",
       "      <td>780.000000</td>\n",
       "      <td>0.000000</td>\n",
       "      <td>0.000000</td>\n",
       "      <td>0.000000</td>\n",
       "      <td>0.000000</td>\n",
       "      <td>0.000000</td>\n",
       "      <td>0.000000</td>\n",
       "      <td>50000.000000</td>\n",
       "      <td>1.000000</td>\n",
       "      <td>32.000000</td>\n",
       "    </tr>\n",
       "    <tr>\n",
       "      <th>50%</th>\n",
       "      <td>0.000000</td>\n",
       "      <td>0.000000</td>\n",
       "      <td>0.000000</td>\n",
       "      <td>0.000000</td>\n",
       "      <td>0.000000</td>\n",
       "      <td>0.000000</td>\n",
       "      <td>21839.000000</td>\n",
       "      <td>21658.000000</td>\n",
       "      <td>20645.000000</td>\n",
       "      <td>19860.000000</td>\n",
       "      <td>...</td>\n",
       "      <td>19234.000000</td>\n",
       "      <td>1700.000000</td>\n",
       "      <td>1650.000000</td>\n",
       "      <td>1250.000000</td>\n",
       "      <td>1047.000000</td>\n",
       "      <td>1100.000000</td>\n",
       "      <td>1010.000000</td>\n",
       "      <td>130000.000000</td>\n",
       "      <td>1.000000</td>\n",
       "      <td>34.000000</td>\n",
       "    </tr>\n",
       "    <tr>\n",
       "      <th>75%</th>\n",
       "      <td>2.000000</td>\n",
       "      <td>2.000000</td>\n",
       "      <td>2.000000</td>\n",
       "      <td>2.000000</td>\n",
       "      <td>0.000000</td>\n",
       "      <td>0.000000</td>\n",
       "      <td>70011.000000</td>\n",
       "      <td>67864.000000</td>\n",
       "      <td>64930.000000</td>\n",
       "      <td>60353.000000</td>\n",
       "      <td>...</td>\n",
       "      <td>55392.000000</td>\n",
       "      <td>4000.000000</td>\n",
       "      <td>4000.000000</td>\n",
       "      <td>3341.000000</td>\n",
       "      <td>3115.000000</td>\n",
       "      <td>3410.000000</td>\n",
       "      <td>3120.000000</td>\n",
       "      <td>220000.000000</td>\n",
       "      <td>2.000000</td>\n",
       "      <td>37.000000</td>\n",
       "    </tr>\n",
       "    <tr>\n",
       "      <th>max</th>\n",
       "      <td>8.000000</td>\n",
       "      <td>7.000000</td>\n",
       "      <td>8.000000</td>\n",
       "      <td>7.000000</td>\n",
       "      <td>7.000000</td>\n",
       "      <td>8.000000</td>\n",
       "      <td>610723.000000</td>\n",
       "      <td>581775.000000</td>\n",
       "      <td>572677.000000</td>\n",
       "      <td>548020.000000</td>\n",
       "      <td>...</td>\n",
       "      <td>498316.000000</td>\n",
       "      <td>300000.000000</td>\n",
       "      <td>344467.000000</td>\n",
       "      <td>508229.000000</td>\n",
       "      <td>432130.000000</td>\n",
       "      <td>330982.000000</td>\n",
       "      <td>345293.000000</td>\n",
       "      <td>580000.000000</td>\n",
       "      <td>3.000000</td>\n",
       "      <td>39.000000</td>\n",
       "    </tr>\n",
       "  </tbody>\n",
       "</table>\n",
       "<p>8 rows × 21 columns</p>\n",
       "</div>"
      ],
      "text/plain": [
       "             PAY_0        PAY_2        PAY_3        PAY_4        PAY_5  \\\n",
       "count  2273.000000  2273.000000  2273.000000  2273.000000  2273.000000   \n",
       "mean      0.866696     0.751870     0.667840     0.603608     0.531016   \n",
       "std       1.050362     1.086095     1.068149     1.099746     1.063574   \n",
       "min       0.000000     0.000000     0.000000     0.000000     0.000000   \n",
       "25%       0.000000     0.000000     0.000000     0.000000     0.000000   \n",
       "50%       0.000000     0.000000     0.000000     0.000000     0.000000   \n",
       "75%       2.000000     2.000000     2.000000     2.000000     0.000000   \n",
       "max       8.000000     7.000000     8.000000     7.000000     7.000000   \n",
       "\n",
       "             PAY_6      BILL_AMT1      BILL_AMT2      BILL_AMT3  \\\n",
       "count  2273.000000    2273.000000    2273.000000    2273.000000   \n",
       "mean      0.521777   53901.027277   52389.885614   49655.516938   \n",
       "std       1.049642   81002.135188   78407.795772   74475.335709   \n",
       "min       0.000000   -6029.000000  -17710.000000  -61506.000000   \n",
       "25%       0.000000    2400.000000    1863.000000    1786.000000   \n",
       "50%       0.000000   21839.000000   21658.000000   20645.000000   \n",
       "75%       0.000000   70011.000000   67864.000000   64930.000000   \n",
       "max       8.000000  610723.000000  581775.000000  572677.000000   \n",
       "\n",
       "           BILL_AMT4  ...      BILL_AMT6       PAY_AMT1       PAY_AMT2  \\\n",
       "count    2273.000000  ...    2273.000000    2273.000000    2273.000000   \n",
       "mean    46716.628245  ...   42446.420150    3779.454905    3890.732072   \n",
       "std     69653.068293  ...   63588.464763   10108.696451   13007.312752   \n",
       "min    -50616.000000  ... -339603.000000       0.000000       0.000000   \n",
       "25%      1261.000000  ...     780.000000       0.000000       0.000000   \n",
       "50%     19860.000000  ...   19234.000000    1700.000000    1650.000000   \n",
       "75%     60353.000000  ...   55392.000000    4000.000000    4000.000000   \n",
       "max    548020.000000  ...  498316.000000  300000.000000  344467.000000   \n",
       "\n",
       "            PAY_AMT3       PAY_AMT4       PAY_AMT5       PAY_AMT6  \\\n",
       "count    2273.000000    2273.000000    2273.000000    2273.000000   \n",
       "mean     4289.986802    3708.461505    3701.105587    4268.633524   \n",
       "std     18917.120027   13896.913920   13691.244173   16872.359774   \n",
       "min         0.000000       0.000000       0.000000       0.000000   \n",
       "25%         0.000000       0.000000       0.000000       0.000000   \n",
       "50%      1250.000000    1047.000000    1100.000000    1010.000000   \n",
       "75%      3341.000000    3115.000000    3410.000000    3120.000000   \n",
       "max    508229.000000  432130.000000  330982.000000  345293.000000   \n",
       "\n",
       "               limit     marriage          age  \n",
       "count    2273.000000  2273.000000  2273.000000  \n",
       "mean   153743.950726     1.474703    34.326881  \n",
       "std    118488.572463     0.511658     2.866309  \n",
       "min     10000.000000     1.000000    30.000000  \n",
       "25%     50000.000000     1.000000    32.000000  \n",
       "50%    130000.000000     1.000000    34.000000  \n",
       "75%    220000.000000     2.000000    37.000000  \n",
       "max    580000.000000     3.000000    39.000000  \n",
       "\n",
       "[8 rows x 21 columns]"
      ]
     },
     "execution_count": 61,
     "metadata": {},
     "output_type": "execute_result"
    }
   ],
   "source": [
    "credit20s = bad_credit[bad_credit.age <30]\n",
    "credit30s = bad_credit[bad_credit['age'].between(30,39)]\n",
    "credit30s.describe()"
   ]
  },
  {
   "cell_type": "code",
   "execution_count": 62,
   "metadata": {},
   "outputs": [
    {
     "data": {
      "text/plain": [
       "22    169\n",
       "24    299\n",
       "26    252\n",
       "28    286\n",
       "21     14\n",
       "23    247\n",
       "25    302\n",
       "27    312\n",
       "29    312\n",
       "Name: age, dtype: int64"
      ]
     },
     "execution_count": 62,
     "metadata": {},
     "output_type": "execute_result"
    }
   ],
   "source": [
    "credit20s['age'].value_counts(sort=False)"
   ]
  },
  {
   "cell_type": "code",
   "execution_count": 63,
   "metadata": {},
   "outputs": [
    {
     "data": {
      "text/plain": [
       "age  limit_groups\n",
       "21   minimum          6\n",
       "     (10-25]          4\n",
       "     (25-50]          4\n",
       "     (50-100]         0\n",
       "     (100-200]        0\n",
       "                     ..\n",
       "29   (25-50]         63\n",
       "     (50-100]        61\n",
       "     (100-200]       98\n",
       "     (200-400]       67\n",
       "     (400-600]        5\n",
       "Length: 63, dtype: int64"
      ]
     },
     "execution_count": 63,
     "metadata": {},
     "output_type": "execute_result"
    }
   ],
   "source": [
    "#this is the largest group of\n",
    "credit20s.groupby(by=['age','limit_groups']).size()"
   ]
  },
  {
   "cell_type": "code",
   "execution_count": 64,
   "metadata": {},
   "outputs": [
    {
     "data": {
      "text/plain": [
       "age  limit_groups\n",
       "30   minimum          8\n",
       "     (10-25]         20\n",
       "     (25-50]         43\n",
       "     (50-100]        58\n",
       "     (100-200]       76\n",
       "                     ..\n",
       "39   (25-50]         39\n",
       "     (50-100]        33\n",
       "     (100-200]       51\n",
       "     (200-400]       47\n",
       "     (400-600]       10\n",
       "Length: 70, dtype: int64"
      ]
     },
     "execution_count": 64,
     "metadata": {},
     "output_type": "execute_result"
    }
   ],
   "source": [
    "credit30s.groupby(by=['age','limit_groups']).size()"
   ]
  },
  {
   "cell_type": "code",
   "execution_count": 65,
   "metadata": {},
   "outputs": [
    {
     "data": {
      "text/plain": [
       "age  marriage\n",
       "21   1             2\n",
       "     2            12\n",
       "22   1            15\n",
       "     2           151\n",
       "     3             3\n",
       "23   1            33\n",
       "     2           214\n",
       "24   1            39\n",
       "     2           260\n",
       "25   1            46\n",
       "     2           253\n",
       "     3             3\n",
       "26   1            43\n",
       "     2           208\n",
       "     3             1\n",
       "27   1            74\n",
       "     2           238\n",
       "28   1            69\n",
       "     2           215\n",
       "     3             2\n",
       "29   1            66\n",
       "     2           245\n",
       "     3             1\n",
       "dtype: int64"
      ]
     },
     "execution_count": 65,
     "metadata": {},
     "output_type": "execute_result"
    }
   ],
   "source": [
    "#Single 24 year olds--this is the same time when the min limit starts to raise\n",
    "credit20s.groupby(by=['age','marriage']).size()"
   ]
  },
  {
   "cell_type": "code",
   "execution_count": 66,
   "metadata": {},
   "outputs": [
    {
     "data": {
      "text/plain": [
       "age  marriage\n",
       "30   1           101\n",
       "     2           170\n",
       "     3             2\n",
       "31   1            82\n",
       "     2           146\n",
       "     3             1\n",
       "32   1           101\n",
       "     2           124\n",
       "33   1            97\n",
       "     2           117\n",
       "     3             1\n",
       "34   1           120\n",
       "     2           109\n",
       "     3             2\n",
       "35   1           144\n",
       "     2            78\n",
       "     3             3\n",
       "36   1           140\n",
       "     2           113\n",
       "     3             1\n",
       "37   1           152\n",
       "     2            75\n",
       "     3             2\n",
       "38   1           133\n",
       "     2            59\n",
       "     3             1\n",
       "39   1           138\n",
       "     2            60\n",
       "     3             1\n",
       "dtype: int64"
      ]
     },
     "execution_count": 66,
     "metadata": {},
     "output_type": "execute_result"
    }
   ],
   "source": [
    "credit30s.groupby(by=['age','marriage']).size()"
   ]
  },
  {
   "cell_type": "code",
   "execution_count": 67,
   "metadata": {},
   "outputs": [
    {
     "data": {
      "text/plain": [
       "age  education      \n",
       "21   graduate school      1\n",
       "     high school          1\n",
       "     university          12\n",
       "22   graduate school     36\n",
       "     high school         26\n",
       "     other                2\n",
       "     university         105\n",
       "23   graduate school     61\n",
       "     high school         33\n",
       "     other                1\n",
       "     university         152\n",
       "24   graduate school     85\n",
       "     high school         34\n",
       "     university         180\n",
       "25   graduate school     83\n",
       "     high school         24\n",
       "     other                2\n",
       "     university         193\n",
       "26   graduate school     69\n",
       "     high school         40\n",
       "     other                1\n",
       "     university         142\n",
       "27   graduate school    116\n",
       "     high school         34\n",
       "     university         162\n",
       "28   graduate school    111\n",
       "     high school         39\n",
       "     other                1\n",
       "     university         135\n",
       "29   graduate school    135\n",
       "     high school         28\n",
       "     other                2\n",
       "     university         147\n",
       "dtype: int64"
      ]
     },
     "execution_count": 67,
     "metadata": {},
     "output_type": "execute_result"
    }
   ],
   "source": [
    "credit20s.groupby(by=['age','education']).size()"
   ]
  },
  {
   "cell_type": "code",
   "execution_count": 68,
   "metadata": {},
   "outputs": [
    {
     "data": {
      "text/plain": [
       "education\n",
       "graduate school     697\n",
       "high school         259\n",
       "other                 9\n",
       "university         1228\n",
       "dtype: int64"
      ]
     },
     "execution_count": 68,
     "metadata": {},
     "output_type": "execute_result"
    }
   ],
   "source": [
    "credit20s.groupby(by=['education']).size()"
   ]
  },
  {
   "cell_type": "code",
   "execution_count": 69,
   "metadata": {},
   "outputs": [
    {
     "data": {
      "text/plain": [
       "sex\n",
       "female    1407\n",
       "male       786\n",
       "dtype: int64"
      ]
     },
     "execution_count": 69,
     "metadata": {},
     "output_type": "execute_result"
    }
   ],
   "source": [
    "credit20s.groupby(by=['sex']).size()"
   ]
  },
  {
   "cell_type": "code",
   "execution_count": 70,
   "metadata": {},
   "outputs": [
    {
     "data": {
      "text/plain": [
       "sex\n",
       "female    3753\n",
       "male      2866\n",
       "dtype: int64"
      ]
     },
     "execution_count": 70,
     "metadata": {},
     "output_type": "execute_result"
    }
   ],
   "source": [
    "bad_credit.groupby(by=['sex']).size()"
   ]
  },
  {
   "cell_type": "code",
   "execution_count": 71,
   "metadata": {},
   "outputs": [
    {
     "data": {
      "text/plain": [
       "sex\n",
       "female    14291\n",
       "male       8971\n",
       "dtype: int64"
      ]
     },
     "execution_count": 71,
     "metadata": {},
     "output_type": "execute_result"
    }
   ],
   "source": [
    "good_credit.groupby(by=['sex']).size()"
   ]
  },
  {
   "cell_type": "code",
   "execution_count": 72,
   "metadata": {},
   "outputs": [
    {
     "data": {
      "text/plain": [
       "sex\n",
       "female    18047\n",
       "male      11839\n",
       "dtype: int64"
      ]
     },
     "execution_count": 72,
     "metadata": {},
     "output_type": "execute_result"
    }
   ],
   "source": [
    "credit.groupby(by=['sex']).size()"
   ]
  },
  {
   "cell_type": "code",
   "execution_count": 78,
   "metadata": {},
   "outputs": [
    {
     "data": {
      "image/png": "[encoded data removed]",
      "text/plain": [
       "<Figure size 432x288 with 1 Axes>"
      ]
     },
     "metadata": {},
     "output_type": "display_data"
    }
   ],
   "source": [
    "sns.set(font_scale=1)\n",
    "sns.boxplot(credit20s['sex'], credit20s['limit'])\n",
    "\n",
    "plt.title(\"Credit limit by sex of 20's defaulter\", fontsize=20)\n",
    "\n",
    "plt.show()"
   ]
  },
  {
   "cell_type": "code",
   "execution_count": 79,
   "metadata": {},
   "outputs": [
    {
     "data": {
      "image/png": "[encoded data removed]",
      "text/plain": [
       "<Figure size 432x288 with 1 Axes>"
      ]
     },
     "metadata": {},
     "output_type": "display_data"
    }
   ],
   "source": [
    "sns.set(font_scale=1)\n",
    "sns.boxplot(credit30s['sex'], credit30s['limit'])\n",
    "plt.title(\"Credit limit by sex of 30's defaulter\", fontsize=20)\n",
    "plt.show()"
   ]
  },
  {
   "cell_type": "code",
   "execution_count": 82,
   "metadata": {},
   "outputs": [
    {
     "data": {
      "text/plain": [
       "age_groups  sex   \n",
       "20s         female    1407\n",
       "            male       786\n",
       "30s         female    1223\n",
       "            male      1050\n",
       "40s         female     788\n",
       "            male       687\n",
       "50+         female     335\n",
       "            male       343\n",
       "Name: sex, dtype: int64"
      ]
     },
     "execution_count": 82,
     "metadata": {},
     "output_type": "execute_result"
    }
   ],
   "source": [
    "bb=bad_credit.groupby(by=['age_groups','sex'])['sex'].count()\n",
    "bb\n"
   ]
  },
  {
   "cell_type": "code",
   "execution_count": 75,
   "metadata": {},
   "outputs": [
    {
     "data": {
      "image/png": "[encoded data removed]",
      "text/plain": [
       "<Figure size 432x288 with 1 Axes>"
      ]
     },
     "metadata": {},
     "output_type": "display_data"
    }
   ],
   "source": [
    "sns.boxplot(credit['age_groups'],credit['limit'], hue='sex' ,data=credit)\n",
    "plt.show()"
   ]
  },
  {
   "cell_type": "code",
   "execution_count": 76,
   "metadata": {},
   "outputs": [
    {
     "data": {
      "image/png": "[encoded data removed]",
      "text/plain": [
       "<Figure size 432x288 with 1 Axes>"
      ]
     },
     "metadata": {},
     "output_type": "display_data"
    }
   ],
   "source": [
    "sns.countplot('sex', hue='default',data=credit)\n",
    "plt.show()"
   ]
  }
 ],
 "metadata": {
  "kernelspec": {
   "display_name": "Python 3",
   "language": "python",
   "name": "python3"
  },
  "language_info": {
   "codemirror_mode": {
    "name": "ipython",
    "version": 3
   },
   "file_extension": ".py",
   "mimetype": "text/x-python",
   "name": "python",
   "nbconvert_exporter": "python",
   "pygments_lexer": "ipython3",
   "version": "3.8.1"
  },
  "toc": {
   "base_numbering": 1,
   "nav_menu": {},
   "number_sections": true,
   "sideBar": true,
   "skip_h1_title": false,
   "title_cell": "Table of Contents",
   "title_sidebar": "Contents",
   "toc_cell": false,
   "toc_position": {},
   "toc_section_display": true,
   "toc_window_display": false
  }
 },
 "nbformat": 4,
 "nbformat_minor": 4
}
